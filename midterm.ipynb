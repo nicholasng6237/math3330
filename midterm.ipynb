{
  "nbformat": 4,
  "nbformat_minor": 0,
  "metadata": {
    "colab": {
      "name": "MATH3330 Midterm (1155127101).ipynb",
      "provenance": [],
      "collapsed_sections": []
    },
    "kernelspec": {
      "name": "python3",
      "display_name": "Python 3"
    },
    "language_info": {
      "name": "python"
    }
  },
  "cells": [
    {
      "cell_type": "markdown",
      "source": [
        "# Question 1"
      ],
      "metadata": {
        "id": "eCT2U9tC5oMB"
      }
    },
    {
      "cell_type": "markdown",
      "source": [
        "a) (2%) Write down your name and student ID."
      ],
      "metadata": {
        "id": "D7H15ciU6KGM"
      }
    },
    {
      "cell_type": "markdown",
      "source": [
        "Name: Ng Wing Yin\n",
        "\n",
        "Student ID: 1155127101"
      ],
      "metadata": {
        "id": "yNV4vgdT6mFp"
      }
    },
    {
      "cell_type": "markdown",
      "source": [
        "b) (2%) Print out the host id of the google colab session."
      ],
      "metadata": {
        "id": "FWwnPnZO6Vxx"
      }
    },
    {
      "cell_type": "code",
      "source": [
        "!hostname"
      ],
      "metadata": {
        "colab": {
          "base_uri": "https://localhost:8080/"
        },
        "id": "LVNZbEjL6gDA",
        "outputId": "a00f3ace-8492-43f6-b87d-47762f0ec05b"
      },
      "execution_count": null,
      "outputs": [
        {
          "output_type": "stream",
          "name": "stdout",
          "text": [
            "f10412f6c6e7\n"
          ]
        }
      ]
    },
    {
      "cell_type": "markdown",
      "source": [
        "c) (2%) List two of the version-controlled repository providers that are free online."
      ],
      "metadata": {
        "id": "qcKL_9qm6i6y"
      }
    },
    {
      "cell_type": "markdown",
      "source": [
        "Github and Bitbucket"
      ],
      "metadata": {
        "id": "cj6s6Ykb6pCO"
      }
    },
    {
      "cell_type": "markdown",
      "source": [
        "d) (2%) Write down the function name of the BLAS 3 operation for real single precision general matrix vector multiplication."
      ],
      "metadata": {
        "id": "sNJ4qG8j6vPO"
      }
    },
    {
      "cell_type": "markdown",
      "source": [
        "sgemv"
      ],
      "metadata": {
        "id": "ETplNYAx6zdr"
      }
    },
    {
      "cell_type": "markdown",
      "source": [
        "e) (2%) What is the computational intensity of the BLAS operation of C = C + A x B where A, B, and C are N x N matrices."
      ],
      "metadata": {
        "id": "v2lNeq7l7M5j"
      }
    },
    {
      "cell_type": "markdown",
      "source": [
        "Multiplication: (2N-1) x N^2\n",
        "\n",
        "Addition: N^2\n",
        "\n",
        "Total: 2N^3"
      ],
      "metadata": {
        "id": "6YVZ0eqG7PLa"
      }
    },
    {
      "cell_type": "markdown",
      "source": [
        "f) (2%) What is the name of the benchmark test to rank the list of top500 computers in the world."
      ],
      "metadata": {
        "id": "WUr6_p0v8BXm"
      }
    },
    {
      "cell_type": "markdown",
      "source": [
        "HPL"
      ],
      "metadata": {
        "id": "-VYi9bvk8EAi"
      }
    },
    {
      "cell_type": "markdown",
      "source": [
        "g) (2%) Write down the Bayes’ theorem."
      ],
      "metadata": {
        "id": "iJG0XwR_8Pi3"
      }
    },
    {
      "cell_type": "markdown",
      "source": [
        "p(X|Y)p(Y)=P(Y|X)p(X)"
      ],
      "metadata": {
        "id": "zHOuwEjO8SSl"
      }
    },
    {
      "cell_type": "markdown",
      "source": [
        "h) (2%) What is the difference between regression and classification?"
      ],
      "metadata": {
        "id": "JINXi25D8luh"
      }
    },
    {
      "cell_type": "markdown",
      "source": [
        "Regression gives a predicted value while classification gives a predicted class"
      ],
      "metadata": {
        "id": "UtNSQf2b8ojl"
      }
    },
    {
      "cell_type": "markdown",
      "source": [
        "i) (2%) Write down the formula for precision and recall, TP is true positive, TN is true negative, FP is false position, and FN is false negative."
      ],
      "metadata": {
        "id": "HdBSq15M82Yy"
      }
    },
    {
      "cell_type": "markdown",
      "source": [
        "Precision = TP / (TP + FP)\n",
        "\n",
        "Recall = TP / (TP + FN)"
      ],
      "metadata": {
        "id": "mBLR5ETB85P3"
      }
    },
    {
      "cell_type": "markdown",
      "source": [
        "j) Given the following parametric model, (2%) Is (w0) ^ 2 + w1 (x^2) + w2 (y^2), w3 (xy) + w4 (y) + w5 (x), where wi are the parameters, is it a linear parametric model (yes or No)?"
      ],
      "metadata": {
        "id": "xSplNDNB9HXC"
      }
    },
    {
      "cell_type": "markdown",
      "source": [
        "No"
      ],
      "metadata": {
        "id": "R1g_D0DF9IBC"
      }
    },
    {
      "cell_type": "markdown",
      "source": [
        "# Question 2"
      ],
      "metadata": {
        "id": "mL4OhBsg9lx6"
      }
    },
    {
      "cell_type": "markdown",
      "source": [
        "a) (10%) A newly built supercomputer named, MA3330-BigIron, is composed of 1000000 units of CPU. Each CPU has 4 cores, 64GB RAM, and a clock speed of 2.5 GHz. Each core has 8 floating units (perform 8 DP operations in one clock cycle). What is the theoretical double precision peak performance of the MA3330-BigIron in PetaFLOPS?"
      ],
      "metadata": {
        "id": "oy-MLf389nfx"
      }
    },
    {
      "cell_type": "markdown",
      "source": [
        "Peak FLOPS = 1000000 CPU * 2.5 GHz * 8 operations * 4 cores = 80 PFLOPS"
      ],
      "metadata": {
        "id": "kDC8KzpH9pSv"
      }
    },
    {
      "cell_type": "markdown",
      "source": [
        "b) (10%) Given the memory of BigIron, what is the maximum dimension (N) of a single NxNmatrix A that BigIron can hold?"
      ],
      "metadata": {
        "id": "r1DqPjI7-YHi"
      }
    },
    {
      "cell_type": "markdown",
      "source": [
        "Memory = 64GB = N^2 * 8\n",
        "\n",
        "Hence N = floor(sqrt(64e9 / 8)) = 89442"
      ],
      "metadata": {
        "id": "uD5aC0af-b2S"
      }
    },
    {
      "cell_type": "markdown",
      "source": [
        "# Question 3"
      ],
      "metadata": {
        "id": "ZdW5Z0_g-99N"
      }
    },
    {
      "cell_type": "markdown",
      "source": [
        "a) (5%) A(i, j, k) is a 3-dimensional matrix (tensor) of size (shape) 2 x 3 x 4. A is composed of 24 numbers ranging from 1 to 24. Print out the matrix A using numpy array?"
      ],
      "metadata": {
        "id": "SHXazfyg-_gp"
      }
    },
    {
      "cell_type": "code",
      "source": [
        "import numpy as np\n",
        "\n",
        "A = np.arange(1, 25).reshape(2, 3, 4)\n",
        "print(A)"
      ],
      "metadata": {
        "colab": {
          "base_uri": "https://localhost:8080/"
        },
        "id": "Olt-E-i9_CPB",
        "outputId": "4907b996-f712-478e-a7d8-bb24c6505d93"
      },
      "execution_count": null,
      "outputs": [
        {
          "output_type": "stream",
          "name": "stdout",
          "text": [
            "[[[ 1  2  3  4]\n",
            "  [ 5  6  7  8]\n",
            "  [ 9 10 11 12]]\n",
            "\n",
            " [[13 14 15 16]\n",
            "  [17 18 19 20]\n",
            "  [21 22 23 24]]]\n"
          ]
        }
      ]
    },
    {
      "cell_type": "markdown",
      "source": [
        "b) (5%) Based on A, print out the “j = 1” slice of A."
      ],
      "metadata": {
        "id": "ne7K7vES_IXQ"
      }
    },
    {
      "cell_type": "code",
      "source": [
        "print(A[:, 1, :])"
      ],
      "metadata": {
        "colab": {
          "base_uri": "https://localhost:8080/"
        },
        "id": "MC-ceuSH_I2J",
        "outputId": "b011a519-5b15-4276-9300-a8697ad9f30e"
      },
      "execution_count": null,
      "outputs": [
        {
          "output_type": "stream",
          "name": "stdout",
          "text": [
            "[[ 5  6  7  8]\n",
            " [17 18 19 20]]\n"
          ]
        }
      ]
    },
    {
      "cell_type": "markdown",
      "source": [
        "c) (5%) Based on A, print out the submatrix A where j=1 and k starts from 1 and ends at 3,that is (1:3)?"
      ],
      "metadata": {
        "id": "nd3htFbX_JOK"
      }
    },
    {
      "cell_type": "code",
      "source": [
        "print(A[:, 1, 1:3])"
      ],
      "metadata": {
        "colab": {
          "base_uri": "https://localhost:8080/"
        },
        "id": "wSzAnRJg_LF1",
        "outputId": "5386e2ae-46b3-4466-a949-2f18d8ade238"
      },
      "execution_count": null,
      "outputs": [
        {
          "output_type": "stream",
          "name": "stdout",
          "text": [
            "[[ 6  7]\n",
            " [18 19]]\n"
          ]
        }
      ]
    },
    {
      "cell_type": "markdown",
      "source": [
        "d) (5%) Based on A, write out the new matrix B which collapses the “i” index to the “j” index."
      ],
      "metadata": {
        "id": "TnyUEfPB_LcJ"
      }
    },
    {
      "cell_type": "code",
      "source": [
        "import tensorflow as tf\n",
        "\n",
        "B = tf.reshape(A, [2*3, 4])\n",
        "print(B)"
      ],
      "metadata": {
        "colab": {
          "base_uri": "https://localhost:8080/"
        },
        "id": "TEx-jdYO_M28",
        "outputId": "cc25474b-032d-409d-a8d6-a5c7dacaf551"
      },
      "execution_count": null,
      "outputs": [
        {
          "output_type": "stream",
          "name": "stdout",
          "text": [
            "tf.Tensor(\n",
            "[[ 1  2  3  4]\n",
            " [ 5  6  7  8]\n",
            " [ 9 10 11 12]\n",
            " [13 14 15 16]\n",
            " [17 18 19 20]\n",
            " [21 22 23 24]], shape=(6, 4), dtype=int64)\n"
          ]
        }
      ]
    },
    {
      "cell_type": "markdown",
      "source": [
        "# Question 4\n",
        "\n",
        "(5% for each sub-problem):"
      ],
      "metadata": {
        "id": "2YrcaAuGBShW"
      }
    },
    {
      "cell_type": "markdown",
      "source": [
        "(a)"
      ],
      "metadata": {
        "id": "ThQbdBKPCO2m"
      }
    },
    {
      "cell_type": "code",
      "source": [
        "X = np.array([[1.6, 0.5], [2.1, -0.8], [3.4, 0.2], [3.9, -0.5], [4.3, 1.2], [5.2, 0.7], [6.1, 0.4], [7.4, -0.5]])\n",
        "Y = np.array([3, 2.4, 4.7, 4.5, 6.6, 7.1, 7.3, 8.1])\n",
        "\n",
        "x1 = X[:, 0]\n",
        "x2 = X[:, 1]\n",
        "sum_x1 = sum(x1)\n",
        "sum_x2 = sum(x2)\n",
        "sum_y = sum(Y)\n",
        "sum_x1x1 = x1 @ x1.T\n",
        "sum_x1x2 = x1 @ x2.T\n",
        "sum_x1y = x1 @ Y.T\n",
        "sum_x2x2 = x2 @ x2.T\n",
        "sum_x2y = x2 @ Y.T\n",
        "sum_yy = Y @ Y.T\n",
        "\n",
        "Q = np.array([\n",
        "  [1, sum_x1 / 8, sum_x2 / 8],\n",
        "  [sum_x1 / 8, sum_x1x1 / 8, sum_x1x2 / 8],\n",
        "  [sum_x2 / 8, sum_x1x2 / 8, sum_x2x2 / 8]\n",
        "])\n",
        "b = np.array([sum_y / 4, sum_x1y / 4, sum_x2y / 4])\n",
        "\n",
        "print(Q)\n",
        "print(b)"
      ],
      "metadata": {
        "colab": {
          "base_uri": "https://localhost:8080/"
        },
        "id": "sAs-BXlqCNde",
        "outputId": "3afd7df9-5454-4b60-8791-b703a0dba1ad"
      },
      "execution_count": 96,
      "outputs": [
        {
          "output_type": "stream",
          "name": "stdout",
          "text": [
            "[[ 1.       4.25     0.15   ]\n",
            " [ 4.25    21.405    0.67375]\n",
            " [ 0.15     0.67375  0.44   ]]\n",
            "[10.925  53.285   2.5075]\n"
          ]
        }
      ]
    },
    {
      "cell_type": "markdown",
      "source": [
        "(b)"
      ],
      "metadata": {
        "id": "ZIhWDaa4Djfi"
      }
    },
    {
      "cell_type": "code",
      "source": [
        "t = np.array([1, 2, 7])\n",
        "d = [b - Q @ t]\n",
        "g = -b\n",
        "\n",
        "for i in range(8):\n",
        "  t = t + -(g.T @ d[i]) / (d[i].T @ Q @ d[i])\n",
        "  g = Q @ t - b\n",
        "  d.append(-g + ((g.T @ Q @ d[i]) / (d[i].T @ Q @ d[i])) * d[i])"
      ],
      "metadata": {
        "id": "Udj51ziWDkkg"
      },
      "execution_count": 95,
      "outputs": []
    },
    {
      "cell_type": "markdown",
      "source": [
        "(c)"
      ],
      "metadata": {
        "id": "z7qQdyVSDk6O"
      }
    },
    {
      "cell_type": "code",
      "source": [
        "print(t)"
      ],
      "metadata": {
        "colab": {
          "base_uri": "https://localhost:8080/"
        },
        "id": "fyFckXPeTXmp",
        "outputId": "c9c1a965-d7b4-4c90-beed-4f69fa89427e"
      },
      "execution_count": 94,
      "outputs": [
        {
          "output_type": "stream",
          "name": "stdout",
          "text": [
            "[3.23833739 4.23833739 9.23833739]\n"
          ]
        }
      ]
    },
    {
      "cell_type": "markdown",
      "source": [
        "(d) Use Scikit-learn package to find C0, C1, C2"
      ],
      "metadata": {
        "id": "AvvCbseiDlu2"
      }
    },
    {
      "cell_type": "code",
      "source": [
        "from sklearn.linear_model import LinearRegression\n",
        "\n",
        "lr1 = LinearRegression()\n",
        "lr1.fit(X, Y)\n",
        "\n",
        "C0 = lr1.intercept_\n",
        "C1 = lr1.coef_[0]\n",
        "C2 = lr1.coef_[1]\n",
        "\n",
        "print(C0)\n",
        "print(C1)\n",
        "print(C2)"
      ],
      "metadata": {
        "colab": {
          "base_uri": "https://localhost:8080/"
        },
        "id": "erUuSAtUDmRq",
        "outputId": "a17487b3-885f-4649-d4a5-ae64bca3fcef"
      },
      "execution_count": null,
      "outputs": [
        {
          "output_type": "stream",
          "name": "stdout",
          "text": [
            "1.0062655431341234\n",
            "1.0149152447395702\n",
            "0.9522977781513547\n"
          ]
        }
      ]
    },
    {
      "cell_type": "markdown",
      "source": [
        "# Question 5"
      ],
      "metadata": {
        "id": "Q-dixvuLDmwp"
      }
    },
    {
      "cell_type": "markdown",
      "source": [
        "a) (5%) Import the data set ‘load_digits’ from ‘sklearn.datasets’. Check out the 'keys' of the data set."
      ],
      "metadata": {
        "id": "7swcOlVdDvbe"
      }
    },
    {
      "cell_type": "code",
      "source": [
        "from sklearn.datasets import load_digits\n",
        "\n",
        "print(load_digits().keys())"
      ],
      "metadata": {
        "colab": {
          "base_uri": "https://localhost:8080/"
        },
        "id": "XC8mcVMODwFT",
        "outputId": "b8609f35-3ef4-4263-df1a-99705fdfa182"
      },
      "execution_count": null,
      "outputs": [
        {
          "output_type": "stream",
          "name": "stdout",
          "text": [
            "dict_keys(['data', 'target', 'frame', 'feature_names', 'target_names', 'images', 'DESCR'])\n"
          ]
        }
      ]
    },
    {
      "cell_type": "markdown",
      "source": [
        "b) (5%) Consider the problem of classifying an image of a hand-written digit as ‘a’ or ‘nota’, where ‘a’ is the last digit of your student ID number. Define a new array for the binary target values. Then split the data set into training and test data sets."
      ],
      "metadata": {
        "id": "kzu9LimZD8RV"
      }
    },
    {
      "cell_type": "code",
      "source": [
        "from sklearn.model_selection import train_test_split\n",
        "\n",
        "digit_a = 1\n",
        "\n",
        "def is_digit_a(n):\n",
        "  return 0 + (n == digit_a)\n",
        "\n",
        "X = load_digits().data\n",
        "Y = np.array(list(map(is_digit_a, load_digits().target)))\n",
        "X_train, X_test, Y_train, Y_test = train_test_split(X, Y)"
      ],
      "metadata": {
        "id": "XyZBiE8iD-_V"
      },
      "execution_count": null,
      "outputs": []
    },
    {
      "cell_type": "markdown",
      "source": [
        "c) (5%) Construct a classifier by applying the method of logistic regression. You can apply the Scikit-learn package."
      ],
      "metadata": {
        "id": "wHK1aQo5EDG-"
      }
    },
    {
      "cell_type": "code",
      "source": [
        "from sklearn.linear_model import LogisticRegression\n",
        "\n",
        "lr2 = LogisticRegression(solver='newton-cg', penalty='none')\n",
        "lr2.fit(X_train, Y_train)"
      ],
      "metadata": {
        "colab": {
          "base_uri": "https://localhost:8080/"
        },
        "id": "Q8D9I5K0EF5Y",
        "outputId": "6d449195-0f78-4963-8f2b-3236edbf63d2"
      },
      "execution_count": null,
      "outputs": [
        {
          "output_type": "execute_result",
          "data": {
            "text/plain": [
              "LogisticRegression(penalty='none', solver='newton-cg')"
            ]
          },
          "metadata": {},
          "execution_count": 21
        }
      ]
    },
    {
      "cell_type": "markdown",
      "source": [
        "d) (5%) Compute the confusion matrices for the (i) training and (ii) test data, respectively. You can apply the Scikit-learn package."
      ],
      "metadata": {
        "id": "KVpXpg3JEGMB"
      }
    },
    {
      "cell_type": "code",
      "source": [
        "from sklearn.metrics import confusion_matrix, accuracy_score\n",
        "\n",
        "C_train = confusion_matrix(Y_train, lr2.predict(X_train))\n",
        "A_train = accuracy_score(Y_train, lr2.predict(X_train))\n",
        "print(C_train)\n",
        "print(A_train)\n",
        "\n",
        "C_test = confusion_matrix(Y_test, lr2.predict(X_test))\n",
        "A_test = accuracy_score(Y_test, lr2.predict(X_test))\n",
        "print(C_test)\n",
        "print(A_test)"
      ],
      "metadata": {
        "colab": {
          "base_uri": "https://localhost:8080/"
        },
        "id": "fPh4veaCEHmH",
        "outputId": "645850e4-d0c3-4a0d-c47b-d305eeda3dcf"
      },
      "execution_count": null,
      "outputs": [
        {
          "output_type": "stream",
          "name": "stdout",
          "text": [
            "[[1207    0]\n",
            " [   0  140]]\n",
            "1.0\n",
            "[[399   9]\n",
            " [  5  37]]\n",
            "0.9688888888888889\n"
          ]
        }
      ]
    }
  ]
}