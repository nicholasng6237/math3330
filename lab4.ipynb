{
  "cells": [
    {
      "cell_type": "markdown",
      "id": "490a053a",
      "metadata": {
        "id": "490a053a"
      },
      "source": [
        "Instuctions: Type your code or solution in this notebook. Upload the '.pdf' file onto Blackboard before Feb. 17 (18:15).\n"
      ]
    },
    {
      "cell_type": "markdown",
      "id": "990e6404",
      "metadata": {
        "id": "990e6404"
      },
      "source": [
        "Name: Ng Wing Yin"
      ]
    },
    {
      "cell_type": "markdown",
      "id": "50f1bc73",
      "metadata": {
        "id": "50f1bc73"
      },
      "source": [
        "SID: 1155127101"
      ]
    },
    {
      "cell_type": "markdown",
      "id": "f2e66035",
      "metadata": {
        "id": "f2e66035"
      },
      "source": [
        "# Problem 1\n"
      ]
    },
    {
      "cell_type": "markdown",
      "id": "70ace249",
      "metadata": {
        "id": "70ace249"
      },
      "source": [
        "In this problem, we will look into the Boston Housing Data Set and build a linear model by least-squares method. We will utilize the Scikit-learn package."
      ]
    },
    {
      "cell_type": "markdown",
      "id": "6ff9ffef",
      "metadata": {
        "id": "6ff9ffef"
      },
      "source": [
        "By running the following commands, import a data set of Boston House Price."
      ]
    },
    {
      "cell_type": "code",
      "execution_count": 1,
      "id": "e4b76fb4",
      "metadata": {
        "colab": {
          "base_uri": "https://localhost:8080/"
        },
        "id": "e4b76fb4",
        "outputId": "25e5421c-8510-4aa5-d5ee-139063b6291f"
      },
      "outputs": [
        {
          "output_type": "stream",
          "name": "stderr",
          "text": [
            "/usr/local/lib/python3.7/dist-packages/sklearn/utils/deprecation.py:87: FutureWarning: Function load_boston is deprecated; `load_boston` is deprecated in 1.0 and will be removed in 1.2.\n",
            "\n",
            "    The Boston housing prices dataset has an ethical problem. You can refer to\n",
            "    the documentation of this function for further details.\n",
            "\n",
            "    The scikit-learn maintainers therefore strongly discourage the use of this\n",
            "    dataset unless the purpose of the code is to study and educate about\n",
            "    ethical issues in data science and machine learning.\n",
            "\n",
            "    In this special case, you can fetch the dataset from the original\n",
            "    source::\n",
            "\n",
            "        import pandas as pd\n",
            "        import numpy as np\n",
            "\n",
            "\n",
            "        data_url = \"http://lib.stat.cmu.edu/datasets/boston\"\n",
            "        raw_df = pd.read_csv(data_url, sep=\"\\s+\", skiprows=22, header=None)\n",
            "        data = np.hstack([raw_df.values[::2, :], raw_df.values[1::2, :2]])\n",
            "        target = raw_df.values[1::2, 2]\n",
            "\n",
            "    Alternative datasets include the California housing dataset (i.e.\n",
            "    :func:`~sklearn.datasets.fetch_california_housing`) and the Ames housing\n",
            "    dataset. You can load the datasets as follows::\n",
            "\n",
            "        from sklearn.datasets import fetch_california_housing\n",
            "        housing = fetch_california_housing()\n",
            "\n",
            "    for the California housing dataset and::\n",
            "\n",
            "        from sklearn.datasets import fetch_openml\n",
            "        housing = fetch_openml(name=\"house_prices\", as_frame=True)\n",
            "\n",
            "    for the Ames housing dataset.\n",
            "    \n",
            "  warnings.warn(msg, category=FutureWarning)\n"
          ]
        }
      ],
      "source": [
        "from sklearn.datasets import load_boston\n",
        "boston_dataset = load_boston()"
      ]
    },
    {
      "cell_type": "markdown",
      "id": "67b50692",
      "metadata": {
        "id": "67b50692"
      },
      "source": [
        "Recall that we have worked on this data set in Laboratory Session 3. Details of the data set can be found under 'keys'. We first import the feature values from the Boston Housing Data Set:"
      ]
    },
    {
      "cell_type": "code",
      "execution_count": 2,
      "id": "ee3de723",
      "metadata": {
        "id": "ee3de723"
      },
      "outputs": [],
      "source": [
        "X= boston_dataset.data"
      ]
    },
    {
      "cell_type": "markdown",
      "id": "f78e819c",
      "metadata": {
        "id": "f78e819c"
      },
      "source": [
        "We also import the target values of the Boston Housing Data Set:"
      ]
    },
    {
      "cell_type": "code",
      "execution_count": 3,
      "id": "d4002448",
      "metadata": {
        "id": "d4002448"
      },
      "outputs": [],
      "source": [
        "Y= boston_dataset.target"
      ]
    },
    {
      "cell_type": "markdown",
      "id": "5b958af9",
      "metadata": {
        "id": "5b958af9"
      },
      "source": [
        "(a) Before we build a linear model, reserve a portion of the data for testing the model. Split the training and test data set in 75% : 25%."
      ]
    },
    {
      "cell_type": "code",
      "execution_count": 4,
      "id": "a7c4a8fe",
      "metadata": {
        "id": "a7c4a8fe"
      },
      "outputs": [],
      "source": [
        "# Answer:\n",
        "from sklearn.model_selection import train_test_split\n",
        "\n",
        "X_train, X_test, Y_train, Y_test = train_test_split(X, Y, test_size=0.25)"
      ]
    },
    {
      "cell_type": "markdown",
      "id": "16904b7d",
      "metadata": {
        "id": "16904b7d"
      },
      "source": [
        "(b) Find the size of the training data set and test data set."
      ]
    },
    {
      "cell_type": "code",
      "execution_count": 5,
      "id": "1fd4ed9d",
      "metadata": {
        "colab": {
          "base_uri": "https://localhost:8080/"
        },
        "id": "1fd4ed9d",
        "outputId": "19956c2f-3358-432f-ae59-35276abb0b22"
      },
      "outputs": [
        {
          "output_type": "stream",
          "name": "stdout",
          "text": [
            "Size of training data set is 379\n",
            "Size of test data set is 127\n"
          ]
        }
      ],
      "source": [
        "# Answer:\n",
        "print(\"Size of training data set is\", len(X_train))\n",
        "print(\"Size of test data set is\", len(X_test))"
      ]
    },
    {
      "cell_type": "markdown",
      "id": "49500425",
      "metadata": {
        "id": "49500425"
      },
      "source": [
        "(c) Using the Scikit-learn package, fit the given data with a linear least-squares model. Please show the values of theta."
      ]
    },
    {
      "cell_type": "code",
      "execution_count": 7,
      "id": "8ca65eac",
      "metadata": {
        "colab": {
          "base_uri": "https://localhost:8080/"
        },
        "id": "8ca65eac",
        "outputId": "c6260d22-f649-4a1d-a287-0face2dceb92"
      },
      "outputs": [
        {
          "output_type": "stream",
          "name": "stdout",
          "text": [
            "theta values = [ 3.47280794e+01 -1.21314222e-01  4.13661000e-02  2.62922549e-02\n",
            "  2.59629981e+00 -1.83365438e+01  4.22195220e+00 -7.69879987e-03\n",
            " -1.52991730e+00  2.88460739e-01 -1.18128485e-02 -9.35214501e-01\n",
            "  7.90597059e-03 -4.90268046e-01]\n"
          ]
        }
      ],
      "source": [
        "# Answer:\n",
        "import numpy as np\n",
        "from sklearn.linear_model import LinearRegression\n",
        "\n",
        "lr1 = LinearRegression()\n",
        "lr1.fit(X_train, Y_train)\n",
        "print(\"theta values =\", np.insert(lr1.coef_, 0, lr1.intercept_))"
      ]
    },
    {
      "cell_type": "markdown",
      "id": "fabc2cdd",
      "metadata": {
        "id": "fabc2cdd"
      },
      "source": [
        "# Problem 2"
      ]
    },
    {
      "cell_type": "markdown",
      "id": "fabea19f",
      "metadata": {
        "id": "fabea19f"
      },
      "source": [
        "Fit the following data to  $y=\\theta_{2}x^{2}+\\theta_{1}x+\\theta_{0}$. Compute the values of $\\theta_{0}$, $\\theta_{1}$ and $\\theta_{2}$. You can apply any packages or write your own code.\n",
        "\n",
        "|x|y|\n",
        "|---|---|\n",
        "|-3.7|21|\n",
        "|-1|4.7|\n",
        "|0.5|3.1|\n",
        "|2.2|5.8|\n",
        "|4.1|15.2|\n",
        "|5.3|24.9|"
      ]
    },
    {
      "cell_type": "code",
      "execution_count": 8,
      "id": "b2340a4f",
      "metadata": {
        "colab": {
          "base_uri": "https://localhost:8080/"
        },
        "id": "b2340a4f",
        "outputId": "232f8f45-d94b-4e6c-d70f-30f8543d0d51"
      },
      "outputs": [
        {
          "output_type": "stream",
          "name": "stdout",
          "text": [
            "t0 = 3.1791310773130323\n",
            "t1 = -1.1133525210788338\n",
            "t2 = 0.9873843876330419\n"
          ]
        }
      ],
      "source": [
        "# Answer:\n",
        "import numpy as np\n",
        "from sklearn.linear_model import LinearRegression\n",
        "from sklearn.preprocessing import PolynomialFeatures\n",
        "\n",
        "X = np.array([[-3.7], [-1], [0.5], [2.2], [4.1], [5.3]])\n",
        "Y = np.array([21, 4.7, 3.1, 5.8, 15.2, 24.9])\n",
        "\n",
        "poly = PolynomialFeatures(degree=2)\n",
        "X_poly = poly.fit_transform(X)\n",
        "lr2 = LinearRegression()\n",
        "lr2.fit(X_poly,Y)\n",
        "print(\"t0 =\", lr2.intercept_)\n",
        "print(\"t1 =\", lr2.coef_[1])\n",
        "print(\"t2 =\", lr2.coef_[2])"
      ]
    }
  ],
  "metadata": {
    "kernelspec": {
      "display_name": "Python 3",
      "language": "python",
      "name": "python3"
    },
    "language_info": {
      "codemirror_mode": {
        "name": "ipython",
        "version": 3
      },
      "file_extension": ".py",
      "mimetype": "text/x-python",
      "name": "python",
      "nbconvert_exporter": "python",
      "pygments_lexer": "ipython3",
      "version": "3.8.8"
    },
    "colab": {
      "name": "MATH3330 Laboratory Assignment 4.ipynb",
      "provenance": [],
      "collapsed_sections": []
    }
  },
  "nbformat": 4,
  "nbformat_minor": 5
}