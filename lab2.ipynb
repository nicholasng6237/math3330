{
  "cells": [
    {
      "cell_type": "markdown",
      "metadata": {
        "id": "pybvJ_uJwczZ"
      },
      "source": [
        "Instuctions: Type your code or solution in this notebook by Google Colab. Upload the pdf file onto Blackboard before Jan. 27 (6:15).\n"
      ]
    },
    {
      "cell_type": "markdown",
      "metadata": {
        "id": "N1qvLGcewczg"
      },
      "source": [
        "Name: Ng Wing Yin"
      ]
    },
    {
      "cell_type": "markdown",
      "metadata": {
        "id": "iti7nw4Awczh"
      },
      "source": [
        "SID：1155127101\n",
        "\n"
      ]
    },
    {
      "cell_type": "markdown",
      "metadata": {
        "id": "pCBWhvzhwczj"
      },
      "source": [
        "# Problem 0"
      ]
    },
    {
      "cell_type": "markdown",
      "metadata": {
        "id": "PN0ktE68wczm"
      },
      "source": [
        "Get the hostname for your colab server.\n"
      ]
    },
    {
      "cell_type": "code",
      "execution_count": 5,
      "metadata": {
        "colab": {
          "base_uri": "https://localhost:8080/"
        },
        "id": "BPt3i0Gvwczo",
        "outputId": "dfd040c6-d450-495a-f994-56b14234d67c"
      },
      "outputs": [
        {
          "output_type": "stream",
          "name": "stdout",
          "text": [
            "0bf146ad3102\n"
          ]
        }
      ],
      "source": [
        "# Answer\n",
        "!hostname"
      ]
    },
    {
      "cell_type": "markdown",
      "metadata": {
        "id": "Ehurqdb4wczr"
      },
      "source": [
        "# Problem 1"
      ]
    },
    {
      "cell_type": "markdown",
      "metadata": {
        "id": "MxftLgWmwczs"
      },
      "source": [
        "(a) Write a single 'for' loop to define the following matrix."
      ]
    },
    {
      "cell_type": "markdown",
      "metadata": {
        "id": "TXHRxM3Swczt"
      },
      "source": [
        "$$ M= \\left[\\begin{matrix}\n",
        "2&3&0&0\\\\ \n",
        "1&2&3&0\\\\\n",
        "0&1&2&3\\\\\n",
        "0&0&1&2\n",
        "\\end{matrix}\\right] $$"
      ]
    },
    {
      "cell_type": "code",
      "execution_count": 6,
      "metadata": {
        "colab": {
          "base_uri": "https://localhost:8080/"
        },
        "id": "aPF2-f_dwczt",
        "outputId": "9abb5f9c-4044-4298-9740-1cc4cb340de6"
      },
      "outputs": [
        {
          "output_type": "stream",
          "name": "stdout",
          "text": [
            "[[2. 3. 0. 0.]\n",
            " [1. 2. 3. 0.]\n",
            " [0. 1. 2. 3.]\n",
            " [0. 0. 1. 2.]]\n"
          ]
        }
      ],
      "source": [
        "#Answer\n",
        "import numpy as np\n",
        "\n",
        "M = np.zeros((4, 4))\n",
        "for i in range(4):\n",
        "  if i > 0: M[i][i - 1] = 1\n",
        "  M[i][i] = 2\n",
        "  if i < 3: M[i][i + 1] = 3\n",
        "print(M)"
      ]
    },
    {
      "cell_type": "markdown",
      "metadata": {
        "id": "S8-YHmzVwczu"
      },
      "source": [
        "(b) Compute $M^3$"
      ]
    },
    {
      "cell_type": "code",
      "execution_count": 7,
      "metadata": {
        "colab": {
          "base_uri": "https://localhost:8080/"
        },
        "id": "Ph0npr6xwczv",
        "outputId": "74b650ec-0215-4920-f5f0-982d37c03081"
      },
      "outputs": [
        {
          "output_type": "stream",
          "name": "stdout",
          "text": [
            "[[26. 54. 54. 27.]\n",
            " [18. 44. 63. 54.]\n",
            " [ 6. 21. 44. 54.]\n",
            " [ 1.  6. 18. 26.]]\n"
          ]
        }
      ],
      "source": [
        "#Answer\n",
        "print(M @ M @ M)"
      ]
    },
    {
      "cell_type": "markdown",
      "metadata": {
        "id": "hr43OMLowczv"
      },
      "source": [
        "(c) Define a matrix $A=[M \\ b]$  "
      ]
    },
    {
      "cell_type": "markdown",
      "metadata": {
        "id": "SYHqJFXywczw"
      },
      "source": [
        "where\n",
        "$$ b= \\left[\\begin{matrix}\n",
        "9\\\\ \n",
        "-1\\\\\n",
        "0.5\\\\\n",
        "7\n",
        "\\end{matrix}\\right] $$"
      ]
    },
    {
      "cell_type": "code",
      "execution_count": 8,
      "metadata": {
        "colab": {
          "base_uri": "https://localhost:8080/"
        },
        "id": "EAtz8_9Pwczw",
        "outputId": "83144d83-9b25-493b-fe78-df7d3a5af0f9"
      },
      "outputs": [
        {
          "output_type": "stream",
          "name": "stdout",
          "text": [
            "[[ 2.   3.   0.   0.   9. ]\n",
            " [ 1.   2.   3.   0.  -1. ]\n",
            " [ 0.   1.   2.   3.   0.5]\n",
            " [ 0.   0.   1.   2.   7. ]]\n"
          ]
        }
      ],
      "source": [
        "#Answer\n",
        "b = np.array([[9], [-1], [0.5], [7]])\n",
        "A = np.hstack((M, b))\n",
        "print(A)"
      ]
    },
    {
      "cell_type": "markdown",
      "metadata": {
        "id": "ZH8nWLCdwczx"
      },
      "source": [
        "(d) Define the matrix C obtained by slicing row 2 to row 4 and column 2 to column 4 of A."
      ]
    },
    {
      "cell_type": "code",
      "execution_count": 9,
      "metadata": {
        "colab": {
          "base_uri": "https://localhost:8080/"
        },
        "id": "Cqv6K-gcwczx",
        "outputId": "ec60e523-ec01-4b92-caa6-ae187dc405ad"
      },
      "outputs": [
        {
          "output_type": "stream",
          "name": "stdout",
          "text": [
            "[[2. 3. 0.]\n",
            " [1. 2. 3.]\n",
            " [0. 1. 2.]]\n"
          ]
        }
      ],
      "source": [
        "# Answer\n",
        "C = A[1:4,1:4]\n",
        "print(C)"
      ]
    },
    {
      "cell_type": "markdown",
      "metadata": {
        "id": "Dqy6kJHHwczy"
      },
      "source": [
        "(e) Solve the equation $Cx=v$ for $x$"
      ]
    },
    {
      "cell_type": "markdown",
      "metadata": {
        "id": "KC0Wh55Qwczy"
      },
      "source": [
        "where\n",
        "$$ v= \\left[\\begin{matrix}\n",
        "6\\\\ \n",
        "1\\\\\n",
        "7\n",
        "\\end{matrix}\\right] $$"
      ]
    },
    {
      "cell_type": "code",
      "execution_count": 10,
      "metadata": {
        "colab": {
          "base_uri": "https://localhost:8080/"
        },
        "id": "U0snvNriwcz0",
        "outputId": "576864e0-20fd-42d1-812d-1db7eb51ec72"
      },
      "outputs": [
        {
          "output_type": "stream",
          "name": "stdout",
          "text": [
            "[[-15.75]\n",
            " [ 12.5 ]\n",
            " [ -2.75]]\n"
          ]
        }
      ],
      "source": [
        "# Answer\n",
        "from numpy.linalg import inv\n",
        "v = np.array([[6], [1], [7]])\n",
        "x = np.dot(inv(C), v)\n",
        "print(x)"
      ]
    },
    {
      "cell_type": "markdown",
      "metadata": {
        "id": "ATp4qkwLwcz1"
      },
      "source": [
        "# Problem 2"
      ]
    },
    {
      "cell_type": "markdown",
      "metadata": {
        "id": "LxyldDjiwcz1"
      },
      "source": [
        "Without defining the matrix explicitly, write down a one-line command that create the following matrices."
      ]
    },
    {
      "cell_type": "markdown",
      "metadata": {
        "id": "EKXmOYSxwcz2"
      },
      "source": [
        "(a)$$U= \\left[\\begin{matrix}-10&-8&-6&-4&-2\\\\ \n",
        "0&2&4&6&8\\\\  \n",
        "\\end{matrix}\\right] $$"
      ]
    },
    {
      "cell_type": "code",
      "execution_count": 11,
      "metadata": {
        "colab": {
          "base_uri": "https://localhost:8080/"
        },
        "id": "TImvP79ywcz3",
        "outputId": "13d67b14-65e8-43e2-bfd6-76c9bb87dd3d"
      },
      "outputs": [
        {
          "output_type": "stream",
          "name": "stdout",
          "text": [
            "[[-10  -8  -6  -4  -2]\n",
            " [  0   2   4   6   8]]\n"
          ]
        }
      ],
      "source": [
        "#Answer\n",
        "U = np.arange(-10, 10, 2).reshape(2, 5)\n",
        "print(U)"
      ]
    },
    {
      "cell_type": "markdown",
      "metadata": {
        "id": "6OTcdFG6wcz3"
      },
      "source": [
        "(b) \n",
        "$$V= \\left[\\begin{matrix}3&12&21&30\\\\ \n",
        "6&15&24&33\\\\ \n",
        "9&18&27&36\\\\ \n",
        "\\end{matrix}\\right] $$"
      ]
    },
    {
      "cell_type": "code",
      "execution_count": 12,
      "metadata": {
        "colab": {
          "base_uri": "https://localhost:8080/"
        },
        "id": "yX35X89Dwcz3",
        "outputId": "bf75eda2-887f-4284-e774-0029b6247690"
      },
      "outputs": [
        {
          "output_type": "stream",
          "name": "stdout",
          "text": [
            "[[ 3 12 21 30]\n",
            " [ 6 15 24 33]\n",
            " [ 9 18 27 36]]\n"
          ]
        }
      ],
      "source": [
        "#Answer \n",
        "V = np.arange(3, 39, 3).reshape(4, 3).T\n",
        "print(V)"
      ]
    },
    {
      "cell_type": "markdown",
      "metadata": {
        "id": "pyU098VFwcz4"
      },
      "source": [
        "# Problem 3"
      ]
    },
    {
      "cell_type": "markdown",
      "metadata": {
        "id": "LSFI5P1Fwcz4"
      },
      "source": [
        "We will learn about the sigmoid function $\\sigma(x)=\\dfrac{1}{1+e^{-x}}$ later. Please plot the graph of the sigmoid function over the interval $[-10,10]$."
      ]
    },
    {
      "cell_type": "code",
      "execution_count": 13,
      "metadata": {
        "colab": {
          "base_uri": "https://localhost:8080/",
          "height": 282
        },
        "id": "z3fumxYwwcz4",
        "outputId": "158afd46-1e61-42b6-b4b3-a0c3e0c8ef2c"
      },
      "outputs": [
        {
          "output_type": "execute_result",
          "data": {
            "text/plain": [
              "[<matplotlib.lines.Line2D at 0x7f5e9891ce50>]"
            ]
          },
          "metadata": {},
          "execution_count": 13
        },
        {
          "output_type": "display_data",
          "data": {
            "image/png": "[encoded data removed]",
            "text/plain": [
              "<Figure size 432x288 with 1 Axes>"
            ]
          },
          "metadata": {
            "needs_background": "light"
          }
        }
      ],
      "source": [
        "#Answer\n",
        "import matplotlib.pyplot as plt\n",
        "x = np.arange(-10, 11)\n",
        "y = 1 / (1 + np.exp(-x))\n",
        "plt.plot(x, y)"
      ]
    },
    {
      "cell_type": "markdown",
      "metadata": {
        "id": "-XYi-epmwcz5"
      },
      "source": [
        "# Problem 4"
      ]
    },
    {
      "cell_type": "markdown",
      "metadata": {
        "id": "QX9bRQKtwcz5"
      },
      "source": [
        "Write a python code to compute C=A x B and plot a curve of the FLOPS against the\n",
        "matrix size N (take N=2000, 4000 and 6000) using single precision when the computation is done on a CPU. Do the same on the GPU.\n"
      ]
    },
    {
      "cell_type": "code",
      "source": [
        "#Answer (part 1)\n",
        "import time\n",
        "x = np.arange(2000, 8000, 2000)\n",
        "\n",
        "y_cpu = []\n",
        "for N in x:\n",
        "  A = np.random.rand(N, N)\n",
        "  B = np.random.rand(N, N)\n",
        "  t0 = time.time()\n",
        "  np.dot(A, B)\n",
        "  t1 = time.time()\n",
        "  y_cpu.append(2 * (N ** 3) / ((t1 - t0)) / (10 ** 9))\n",
        "\n",
        "print(y_cpu)"
      ],
      "metadata": {
        "colab": {
          "base_uri": "https://localhost:8080/"
        },
        "id": "LZ1dE8-d-e_G",
        "outputId": "a1a09f2e-76e5-4752-9c40-46f627be009f"
      },
      "execution_count": 15,
      "outputs": [
        {
          "output_type": "stream",
          "name": "stdout",
          "text": [
            "[27.7200536979285, 16.044268202616763, 22.90997515891388]\n"
          ]
        }
      ]
    },
    {
      "cell_type": "code",
      "execution_count": 102,
      "metadata": {
        "colab": {
          "base_uri": "https://localhost:8080/"
        },
        "id": "JxhX89a3wcz5",
        "outputId": "b78ac9af-e366-45e4-d6bd-b701660ba61f"
      },
      "outputs": [
        {
          "output_type": "stream",
          "name": "stdout",
          "text": [
            "[29.751821892143276, 34.284774844940635, 34.32204517595363]\n"
          ]
        }
      ],
      "source": [
        "#Answer (part 2)\n",
        "import time\n",
        "x = np.arange(2000, 8000, 2000)\n",
        "\n",
        "y_gpu = []\n",
        "for N in x:\n",
        "  A = np.random.rand(N, N)\n",
        "  B = np.random.rand(N, N)\n",
        "  t0 = time.time()\n",
        "  np.dot(A, B)\n",
        "  t1 = time.time()\n",
        "  y_gpu.append(2 * (N ** 3) / ((t1 - t0)) / (10 ** 9))\n",
        "\n",
        "print(y_gpu)"
      ]
    },
    {
      "cell_type": "code",
      "source": [
        "# Answer (part 3)\n",
        "\n",
        "# Copy by hand\n",
        "y_cpu = [27.7200536979285, 16.044268202616763, 22.90997515891388]\n",
        "y_gpu = [29.751821892143276, 34.284774844940635, 34.32204517595363]\n",
        "\n",
        "# Plot\n",
        "plt.plot(x, y_cpu, \"b-\", label=\"CPU\")\n",
        "plt.plot(x, y_gpu, \"y-\", label=\"GPU\")\n",
        "plt.xlabel(\"N\")\n",
        "plt.ylabel(\"GFLOPS\")\n",
        "plt.legend()"
      ],
      "metadata": {
        "colab": {
          "base_uri": "https://localhost:8080/",
          "height": 298
        },
        "id": "bujyHn6y-v3I",
        "outputId": "95bb80ae-cbcb-45c9-c2d1-84557a5fadea"
      },
      "execution_count": 16,
      "outputs": [
        {
          "output_type": "execute_result",
          "data": {
            "text/plain": [
              "<matplotlib.legend.Legend at 0x7f5e8fd4e210>"
            ]
          },
          "metadata": {},
          "execution_count": 16
        },
        {
          "output_type": "display_data",
          "data": {
            "image/png": "[encoded data removed]",
            "text/plain": [
              "<Figure size 432x288 with 1 Axes>"
            ]
          },
          "metadata": {
            "needs_background": "light"
          }
        }
      ]
    },
    {
      "cell_type": "markdown",
      "metadata": {
        "id": "VtYbponLwcz5"
      },
      "source": [
        "e.g. you may get a graph like this:\n",
        "\n",
        "https://drive.google.com/file/d/1yYl18ozmS0vp8Nf_-PCZczq9I1Psdho3/view?usp=sharing\n"
      ]
    }
  ],
  "metadata": {
    "kernelspec": {
      "display_name": "Python 3",
      "language": "python",
      "name": "python3"
    },
    "language_info": {
      "codemirror_mode": {
        "name": "ipython",
        "version": 3
      },
      "file_extension": ".py",
      "mimetype": "text/x-python",
      "name": "python",
      "nbconvert_exporter": "python",
      "pygments_lexer": "ipython3",
      "version": "3.8.8"
    },
    "colab": {
      "name": "MATH3330 Laboratory Assignment 2.ipynb",
      "provenance": [],
      "collapsed_sections": [],
      "toc_visible": true
    }
  },
  "nbformat": 4,
  "nbformat_minor": 0
}