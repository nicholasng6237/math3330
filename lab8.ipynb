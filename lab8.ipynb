{
  "nbformat": 4,
  "nbformat_minor": 0,
  "metadata": {
    "colab": {
      "name": "MATH3330 Laboratory Assignment 8.ipynb",
      "provenance": []
    },
    "kernelspec": {
      "name": "python3",
      "display_name": "Python 3"
    },
    "language_info": {
      "name": "python"
    }
  },
  "cells": [
    {
      "cell_type": "markdown",
      "source": [
        "Name: Ng Wing Yin\n",
        "\n",
        "SID: 1155127101"
      ],
      "metadata": {
        "id": "CXoXu_cFI0od"
      }
    },
    {
      "cell_type": "markdown",
      "source": [
        "# Problem 1"
      ],
      "metadata": {
        "id": "m8smGqLQI-WJ"
      }
    },
    {
      "cell_type": "markdown",
      "source": [
        "A. 32x32x3 input tensor, 7x7x3x64 kernel tensor, 32x32x64 output tensor, 9472 trainable parameters.\n",
        "\n",
        "B. 32x32x64 input tensor, 2x2x64 kernel tensor, 16x16x64 output tensor, 0 trainable parameters.\n",
        "\n",
        "C. 16x16x64 input tensor, 3x3x64x128 kernel tensor, 16x16x128 output tensor, 73856 trainable parameters.\n",
        "\n",
        "D. 16x16x128 input tensor, 2x2x128 kernel tensor, 8x8x128 output tensor, 0 trainable parameters.\n",
        "\n",
        "E. 8x8x128 input tensor, 3x3x128x256 kernel tensor, 6x6x256 output tensor, 295168 trainable parameters.\n",
        "\n",
        "F. 6x6x256 input tensor, 2x2x256 kernel tensor, 3x3x256 output tensor, 0 trainable parameters.\n",
        "\n",
        "G. 3x3x256 input tensor, no kernel tensor, 2304 output tensor, 0 trainable parameters.\n",
        "\n",
        "H. 2304 input tensor, 2304x64 kernel tensor, 64 output tensor, 147520 trainable parameters.\n",
        "\n",
        "I. 64 input tensor, 64x32 kernel tensor, 32 output tensor, 2080 trainable parameters.\n",
        "\n",
        "J. 32 input tensor, 32x10 kernel tensor, 10 output tensor, 330 trainable parameters."
      ],
      "metadata": {
        "id": "4o6A_fdaJAZg"
      }
    },
    {
      "cell_type": "markdown",
      "source": [
        "# Problem 2"
      ],
      "metadata": {
        "id": "6UKsE_jCRo4T"
      }
    },
    {
      "cell_type": "code",
      "source": [
        "import numpy as np\n",
        "\n",
        "# data\n",
        "input = np.array([[1, 0, -1], [1, 0, 1], [0, 1, 0]])\n",
        "filter = np.array([[-1, 2], [3, 1]])\n",
        "bias = 1.0\n",
        "dLdO = np.array([[-0.2, 0.2], [0.1, -0.1]])\n",
        "\n",
        "# learning rate\n",
        "a = 1.0\n",
        "\n",
        "# layer\n",
        "dLdF = np.array([\n",
        "  [\n",
        "    input[0][0] * dLdO[0][0] + input[0][1] * dLdO[0][1] + input[1][0] * dLdO[1][0] + input[1][1] * dLdO[1][1],\n",
        "    input[0][1] * dLdO[0][0] + input[0][2] * dLdO[0][1] + input[1][1] * dLdO[1][0] + input[1][2] * dLdO[1][1],\n",
        "  ],\n",
        "  [\n",
        "    input[1][0] * dLdO[0][0] + input[1][1] * dLdO[0][1] + input[2][0] * dLdO[1][0] + input[2][1] * dLdO[1][1],\n",
        "    input[1][1] * dLdO[0][0] + input[1][2] * dLdO[0][1] + input[2][1] * dLdO[1][0] + input[2][2] * dLdO[1][1],\n",
        "  ]\n",
        "])\n",
        "filter = filter - a * dLdF\n",
        "print(filter)"
      ],
      "metadata": {
        "colab": {
          "base_uri": "https://localhost:8080/"
        },
        "id": "nwiuHX8-RqP1",
        "outputId": "5abe1248-5a71-445e-bc71-f22b0674c5be"
      },
      "execution_count": 15,
      "outputs": [
        {
          "output_type": "stream",
          "name": "stdout",
          "text": [
            "[[-0.9  2.3]\n",
            " [ 3.3  0.7]]\n"
          ]
        }
      ]
    }
  ]
}