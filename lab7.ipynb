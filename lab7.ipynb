{
  "cells": [
    {
      "cell_type": "markdown",
      "id": "922ed44a",
      "metadata": {
        "id": "922ed44a"
      },
      "source": [
        "Instuctions: Type your code or solution in Google Colab. Upload the '.pdf' file onto Blackboard before Mar. 17 (18:15)."
      ]
    },
    {
      "cell_type": "markdown",
      "id": "47d66388",
      "metadata": {
        "id": "47d66388"
      },
      "source": [
        "Name: Ng Wing Yin"
      ]
    },
    {
      "cell_type": "markdown",
      "id": "4d535aa3",
      "metadata": {
        "id": "4d535aa3"
      },
      "source": [
        "ID: 1155127101"
      ]
    },
    {
      "cell_type": "markdown",
      "id": "5f48078e",
      "metadata": {
        "id": "5f48078e"
      },
      "source": [
        "# Q1. Backward Calculation of A Simple NN Using python code\n",
        "\n"
      ]
    },
    {
      "cell_type": "markdown",
      "id": "32119314",
      "metadata": {
        "id": "32119314"
      },
      "source": [
        "The forward NN computation is shown in the following python code. Based on the given python code, build a python code to update the values of the w1, w2, w3, w4, w5, w6, w7, w8, b1, and b2 with a learning rate 0.5.There is a picture for your reference.(https://drive.google.com/file/d/1PuMib22VhGRP6ZjN5ywpw4XriqmFf__S/view?usp=sharing)\n",
        "\n"
      ]
    },
    {
      "cell_type": "code",
      "execution_count": 31,
      "id": "9b950e4f",
      "metadata": {
        "colab": {
          "base_uri": "https://localhost:8080/"
        },
        "id": "9b950e4f",
        "outputId": "ae06deaf-a443-4b20-983a-97b74853f34b"
      },
      "outputs": [
        {
          "output_type": "stream",
          "name": "stdout",
          "text": [
            "h1: 0.5950784738641188\n",
            "h2: 0.5986876601103646\n",
            "o1: 0.7732610682155743\n",
            "o2: 0.7935067075667699\n",
            "Error o1: 0.29128372912678974\n",
            "Error o2: 0.019304806985625443\n",
            "Total Error: 0.31058853611241516\n"
          ]
        }
      ],
      "source": [
        "# e constant\n",
        "e = 2.7182818284\n",
        "# initial values\n",
        "i1 = 0.05\n",
        "i2 = 0.10\n",
        "# initial weights\n",
        "w1 = 0.20\n",
        "w2 = 0.25\n",
        "w3 = 0.30\n",
        "w4 = 0.35\n",
        "w5 = 0.50\n",
        "w6 = 0.55\n",
        "w7 = 0.60\n",
        "w8 = 0.65\n",
        "# bias\n",
        "b1 = 0.35\n",
        "b2 = 0.60\n",
        "# targets\n",
        "To1 = 0.01\n",
        "To2 = 0.99\n",
        "\n",
        "\n",
        "# forward propagation\n",
        "h1 = 1/(1+e**(-(w1*i1 + w2*i2+b1)))\n",
        "print(\"h1: \" + str(h1))\n",
        "h2 = 1/(1+e**(-(w3*i1 + w4*i2+b1)))\n",
        "print(\"h2: \" + str(h2))\n",
        "o1 = 1/(1+e**(-(w5*h1 + w6*h2+b2)))\n",
        "print(\"o1: \" + str(o1))\n",
        "o2 = 1/(1+e**(-(w7*h1 + w8*h2+b2)))\n",
        "print(\"o2: \" + str(o2))\n",
        "\n",
        "\n",
        "# Error\n",
        "Eo1 = 0.5*(To1-o1)**2\n",
        "print(\"Error o1: \" + str(Eo1))\n",
        "Eo2 = 0.5*(To2-o2)**2\n",
        "print(\"Error o2: \" + str(Eo2))\n",
        "E = Eo1 + Eo2\n",
        "print(\"Total Error: \" + str(E))"
      ]
    },
    {
      "cell_type": "code",
      "execution_count": 32,
      "id": "f5ccbd69",
      "metadata": {
        "colab": {
          "base_uri": "https://localhost:8080/"
        },
        "id": "f5ccbd69",
        "outputId": "9fda8811-32b6-40fe-83b4-05a189b2b2d9"
      },
      "outputs": [
        {
          "output_type": "stream",
          "name": "stdout",
          "text": [
            "Go1: 0.7632610682155743\n",
            "Go2: -0.1964932924332301\n",
            "\n",
            "Gd1: 0.13382133316958306\n",
            "Gd2: -0.032196175118127716\n",
            "New w5: 0.4601829026434914\n",
            "New w6: 0.5099414095859265\n",
            "New w7: 0.6095796253767787\n",
            "New w8: 0.6596377263729878\n",
            "New b2: 0.5491874209742723\n",
            "\n",
            "Gd1: 0.011855903647785673\n",
            "Gd2: 0.014263147903555203\n",
            "New w1: 0.19970360240880536\n",
            "New w2: 0.24940720481761072\n",
            "New w3: 0.2996434213024111\n",
            "New w4: 0.34928684260482223\n",
            "New b1: 0.33694047422432954\n"
          ]
        }
      ],
      "source": [
        "# Answer\n",
        "import numpy as np\n",
        "\n",
        "# learning rate\n",
        "a = 0.5\n",
        "\n",
        "# gradients\n",
        "Go1 = 0.5 * 2 * (To1 - o1) * -1\n",
        "Go2 = 0.5 * 2 * (To2 - o2) * -1\n",
        "print(\"Go1:\", Go1)\n",
        "print(\"Go2:\", Go2)\n",
        "\n",
        "print(\"\")\n",
        "\n",
        "# second layer\n",
        "Gd1 = Go1 * o1 * (1 - o1)\n",
        "Gd2 = Go2 * o2 * (1 - o2)\n",
        "print(\"Gd1:\", Gd1)\n",
        "print(\"Gd2:\", Gd2)\n",
        "\n",
        "Gh1 = Gd1 * w5 + Gd2 * w6\n",
        "Gh2 = Gd1 * w7 + Gd2 * w8\n",
        "\n",
        "w5 -= a * Gd1 * h1\n",
        "w6 -= a * Gd1 * h2\n",
        "w7 -= a * Gd2 * h1\n",
        "w8 -= a * Gd2 * h2\n",
        "b2 -= a * (Gd1 + Gd2)\n",
        "print(\"New w5:\", w5)\n",
        "print(\"New w6:\", w6)\n",
        "print(\"New w7:\", w7)\n",
        "print(\"New w8:\", w8)\n",
        "print(\"New b2:\", b2)\n",
        "\n",
        "print(\"\")\n",
        "\n",
        "# first layer\n",
        "Gd1 = Gh1 * h1 * (1 - h1)\n",
        "Gd2 = Gh2 * h2 * (1 - h2)\n",
        "print(\"Gd1:\", Gd1)\n",
        "print(\"Gd2:\", Gd2)\n",
        "\n",
        "w1 -= a * Gd1 * i1\n",
        "w2 -= a * Gd1 * i2\n",
        "w3 -= a * Gd2 * i1\n",
        "w4 -= a * Gd2 * i2\n",
        "b1 -= a * (Gd1 + Gd2)\n",
        "print(\"New w1:\", w1)\n",
        "print(\"New w2:\", w2)\n",
        "print(\"New w3:\", w3)\n",
        "print(\"New w4:\", w4)\n",
        "print(\"New b1:\", b1)"
      ]
    }
  ],
  "metadata": {
    "kernelspec": {
      "display_name": "Python 3",
      "language": "python",
      "name": "python3"
    },
    "language_info": {
      "codemirror_mode": {
        "name": "ipython",
        "version": 3
      },
      "file_extension": ".py",
      "mimetype": "text/x-python",
      "name": "python",
      "nbconvert_exporter": "python",
      "pygments_lexer": "ipython3",
      "version": "3.8.8"
    },
    "colab": {
      "name": "Assignment 7.ipynb",
      "provenance": []
    }
  },
  "nbformat": 4,
  "nbformat_minor": 5
}