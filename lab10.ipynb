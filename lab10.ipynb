{
  "nbformat": 4,
  "nbformat_minor": 0,
  "metadata": {
    "colab": {
      "name": "MATH3330 Laboratory Assignment 10.ipynb",
      "provenance": []
    },
    "kernelspec": {
      "name": "python3",
      "display_name": "Python 3"
    },
    "language_info": {
      "name": "python"
    }
  },
  "cells": [
    {
      "cell_type": "markdown",
      "source": [
        "ID: 1155127101\n",
        "\n",
        "Name: Ng Wing Yin"
      ],
      "metadata": {
        "id": "U2roesfBUYrm"
      }
    },
    {
      "cell_type": "markdown",
      "source": [
        "(a) The main principle of SVM is to map training points to points in hyperplane or set of hyperplanes in a high-dimensional space, such that the gap between categories are widened."
      ],
      "metadata": {
        "id": "z1bz6msCUd3B"
      }
    },
    {
      "cell_type": "markdown",
      "source": [
        "(b) Hadoop uses MapReduce as data programming algorithm with map function and reduce function as key components."
      ],
      "metadata": {
        "id": "MTJnKSkIVcn_"
      }
    },
    {
      "cell_type": "markdown",
      "source": [
        "(c) First, Spark uses RAMs to process data while Hadoop uses disks from multiple nodes. Second, Spark uses Directed Acyclic Graph to schedule tasks while Hadoop uses two-stage execution process. Third, Spark has a machine learning library while Hadoop does not."
      ],
      "metadata": {
        "id": "x4YgFjK1WxI5"
      }
    },
    {
      "cell_type": "markdown",
      "source": [
        "(d) The objective of LDA is to maximize the distance between means and minimize the variance in all classes."
      ],
      "metadata": {
        "id": "PQusI4v-YBs6"
      }
    },
    {
      "cell_type": "markdown",
      "source": [
        "(e) In PCA, the covariance matrix is first calculated, then compute eigenvalues and eigenvectors, and finally find the principal components in order."
      ],
      "metadata": {
        "id": "vF2UKeeSaeaD"
      }
    },
    {
      "cell_type": "markdown",
      "source": [
        "(f) Single linkage is the minimum distance between any point in A and any point in B.\n",
        "\n"
      ],
      "metadata": {
        "id": "JtozlMJSbP8N"
      }
    },
    {
      "cell_type": "markdown",
      "source": [
        "(g) Complete linkage is the maximum distance between any point in A and any point in B."
      ],
      "metadata": {
        "id": "WzBANr1Ybwt3"
      }
    },
    {
      "cell_type": "markdown",
      "source": [
        "(h) Number of inner iterations = 1000 / 50 = 20."
      ],
      "metadata": {
        "id": "wSU2-wfHb_8K"
      }
    },
    {
      "cell_type": "markdown",
      "source": [
        "(i) Downstream gradient of Add = upstream gradient, downstream gradient of Multiply = upstream gradient x input value."
      ],
      "metadata": {
        "id": "d6QiOUWdcPRN"
      }
    },
    {
      "cell_type": "markdown",
      "source": [
        "(j) Number of trainable parameters = 3 x 3 x 3 x 5 + 5 = 140."
      ],
      "metadata": {
        "id": "ZMECLmFyclWi"
      }
    }
  ]
}