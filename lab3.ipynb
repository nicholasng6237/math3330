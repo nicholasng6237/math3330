{
  "cells": [
    {
      "cell_type": "markdown",
      "metadata": {
        "id": "GXocmlw62AfS"
      },
      "source": [
        "Instuctions: Type your code or solution in Colab. Upload the '.pdf' file onto Blackboard before Feb.10 (18:15)."
      ]
    },
    {
      "cell_type": "markdown",
      "metadata": {
        "id": "TDQpqyBj2AfY"
      },
      "source": [
        "Name: Ng Wing Yin"
      ]
    },
    {
      "cell_type": "markdown",
      "metadata": {
        "id": "yYYaHN7r2AfZ"
      },
      "source": [
        "SID: 1155127101"
      ]
    },
    {
      "cell_type": "markdown",
      "metadata": {
        "id": "TaKnbiqp2Afa"
      },
      "source": [
        "# Problem 1"
      ]
    },
    {
      "cell_type": "markdown",
      "metadata": {
        "id": "TZ1wKy1i2Afa"
      },
      "source": [
        "By running the following commands, import a data set of portraits."
      ]
    },
    {
      "cell_type": "code",
      "execution_count": 1,
      "metadata": {
        "id": "GRkLe78-2Afb"
      },
      "outputs": [],
      "source": [
        "from sklearn.datasets import fetch_lfw_people\n",
        "people = fetch_lfw_people(min_faces_per_person=20)"
      ]
    },
    {
      "cell_type": "markdown",
      "metadata": {
        "id": "41OqvUr82Afd"
      },
      "source": [
        "(a) Read the keys of this data set."
      ]
    },
    {
      "cell_type": "code",
      "execution_count": 2,
      "metadata": {
        "colab": {
          "base_uri": "https://localhost:8080/"
        },
        "id": "RWcdyLH22Aff",
        "outputId": "ad6c9675-5fa7-4e4d-9567-2cb052378f22"
      },
      "outputs": [
        {
          "output_type": "execute_result",
          "data": {
            "text/plain": [
              "dict_keys(['data', 'images', 'target', 'target_names', 'DESCR'])"
            ]
          },
          "metadata": {},
          "execution_count": 2
        }
      ],
      "source": [
        "# Answer:\n",
        "people.keys()"
      ]
    },
    {
      "cell_type": "markdown",
      "metadata": {
        "id": "KeeQ6Zgi2Afg"
      },
      "source": [
        "(b) Find the names of the people included in this data set."
      ]
    },
    {
      "cell_type": "code",
      "execution_count": 3,
      "metadata": {
        "colab": {
          "base_uri": "https://localhost:8080/"
        },
        "id": "MlNsEQLP2Afg",
        "outputId": "69dc52a6-9755-4c01-aae1-5c6dfa6cca37"
      },
      "outputs": [
        {
          "output_type": "execute_result",
          "data": {
            "text/plain": [
              "array(['Alejandro Toledo', 'Alvaro Uribe', 'Amelie Mauresmo',\n",
              "       'Andre Agassi', 'Angelina Jolie', 'Ariel Sharon',\n",
              "       'Arnold Schwarzenegger', 'Atal Bihari Vajpayee', 'Bill Clinton',\n",
              "       'Carlos Menem', 'Colin Powell', 'David Beckham', 'Donald Rumsfeld',\n",
              "       'George Robertson', 'George W Bush', 'Gerhard Schroeder',\n",
              "       'Gloria Macapagal Arroyo', 'Gray Davis', 'Guillermo Coria',\n",
              "       'Hamid Karzai', 'Hans Blix', 'Hugo Chavez', 'Igor Ivanov',\n",
              "       'Jack Straw', 'Jacques Chirac', 'Jean Chretien',\n",
              "       'Jennifer Aniston', 'Jennifer Capriati', 'Jennifer Lopez',\n",
              "       'Jeremy Greenstock', 'Jiang Zemin', 'John Ashcroft',\n",
              "       'John Negroponte', 'Jose Maria Aznar', 'Juan Carlos Ferrero',\n",
              "       'Junichiro Koizumi', 'Kofi Annan', 'Laura Bush',\n",
              "       'Lindsay Davenport', 'Lleyton Hewitt', 'Luiz Inacio Lula da Silva',\n",
              "       'Mahmoud Abbas', 'Megawati Sukarnoputri', 'Michael Bloomberg',\n",
              "       'Naomi Watts', 'Nestor Kirchner', 'Paul Bremer', 'Pete Sampras',\n",
              "       'Recep Tayyip Erdogan', 'Ricardo Lagos', 'Roh Moo-hyun',\n",
              "       'Rudolph Giuliani', 'Saddam Hussein', 'Serena Williams',\n",
              "       'Silvio Berlusconi', 'Tiger Woods', 'Tom Daschle', 'Tom Ridge',\n",
              "       'Tony Blair', 'Vicente Fox', 'Vladimir Putin', 'Winona Ryder'],\n",
              "      dtype='<U25')"
            ]
          },
          "metadata": {},
          "execution_count": 3
        }
      ],
      "source": [
        "# Answer:\n",
        "people.target_names"
      ]
    },
    {
      "cell_type": "markdown",
      "metadata": {
        "id": "3dPM45EN2Afh"
      },
      "source": [
        "(c) How many portraits are stored in this data set?"
      ]
    },
    {
      "cell_type": "code",
      "execution_count": 4,
      "metadata": {
        "colab": {
          "base_uri": "https://localhost:8080/"
        },
        "id": "yP9SOZA62Afi",
        "outputId": "edee814d-1fd7-48be-f25c-bdaca6d2f564"
      },
      "outputs": [
        {
          "output_type": "execute_result",
          "data": {
            "text/plain": [
              "3023"
            ]
          },
          "metadata": {},
          "execution_count": 4
        }
      ],
      "source": [
        "# Answer:\n",
        "len(people.data)"
      ]
    },
    {
      "cell_type": "markdown",
      "metadata": {
        "id": "wgiTjNIs2Afi"
      },
      "source": [
        "(d) What is the size of a portrait?"
      ]
    },
    {
      "cell_type": "code",
      "execution_count": 5,
      "metadata": {
        "colab": {
          "base_uri": "https://localhost:8080/"
        },
        "id": "1Nvglh8Z2Afj",
        "outputId": "6592ec45-ea3d-4a3b-a4c5-e18bc8b3fb2f"
      },
      "outputs": [
        {
          "output_type": "stream",
          "name": "stdout",
          "text": [
            "Size of portrait is of width 47 and height 62\n"
          ]
        }
      ],
      "source": [
        "# Answer\n",
        "width = len(people.images[0][0])\n",
        "height = len(people.images[0])\n",
        "print(\"Size of portrait is of width\", width, \"and height\", height)"
      ]
    },
    {
      "cell_type": "markdown",
      "metadata": {
        "id": "mJguMhsE2Afk"
      },
      "source": [
        "(e) An image can be printed with the 'imshow' function in Matplotlib. Try to run the following codes."
      ]
    },
    {
      "cell_type": "code",
      "execution_count": 6,
      "metadata": {
        "id": "gnatasEy2Afk"
      },
      "outputs": [],
      "source": [
        "import matplotlib.pyplot as plt"
      ]
    },
    {
      "cell_type": "code",
      "execution_count": 7,
      "metadata": {
        "colab": {
          "base_uri": "https://localhost:8080/",
          "height": 286
        },
        "id": "wXfWlKL12Afl",
        "outputId": "97f11503-dfc9-4b2b-b777-77c37f485960"
      },
      "outputs": [
        {
          "output_type": "execute_result",
          "data": {
            "text/plain": [
              "<matplotlib.image.AxesImage at 0x7f684a901110>"
            ]
          },
          "metadata": {},
          "execution_count": 7
        },
        {
          "output_type": "display_data",
          "data": {
            "image/png": "[encoded data removed]",
            "text/plain": [
              "<Figure size 432x288 with 1 Axes>"
            ]
          },
          "metadata": {
            "needs_background": "light"
          }
        }
      ],
      "source": [
        "plt.imshow(people.images[1223])"
      ]
    },
    {
      "cell_type": "markdown",
      "metadata": {
        "id": "HUujH-qC2Afm"
      },
      "source": [
        "Find out the target name of the person on this portrait."
      ]
    },
    {
      "cell_type": "code",
      "execution_count": 21,
      "metadata": {
        "colab": {
          "base_uri": "https://localhost:8080/"
        },
        "id": "q--9Rlxn2Afm",
        "outputId": "51241725-ac87-40a7-ccd1-73693d91dfa5"
      },
      "outputs": [
        {
          "output_type": "stream",
          "name": "stdout",
          "text": [
            "Vladimir Putin\n"
          ]
        }
      ],
      "source": [
        "# Answer\n",
        "print(people.target_names[people.target[1223]])"
      ]
    },
    {
      "cell_type": "markdown",
      "metadata": {
        "id": "ShnG3xGZ2Afm"
      },
      "source": [
        "(f) Print the image with index '1412' and find out the name of the person in the image. "
      ]
    },
    {
      "cell_type": "code",
      "execution_count": 22,
      "metadata": {
        "colab": {
          "base_uri": "https://localhost:8080/",
          "height": 286
        },
        "id": "AvOc6sGm2Afn",
        "outputId": "8fbf67dc-229f-4310-b05e-b8085e5ed4be"
      },
      "outputs": [
        {
          "output_type": "stream",
          "name": "stdout",
          "text": [
            "Serena Williams\n"
          ]
        },
        {
          "output_type": "display_data",
          "data": {
            "image/png": "[encoded data removed]",
            "text/plain": [
              "<Figure size 432x288 with 1 Axes>"
            ]
          },
          "metadata": {
            "needs_background": "light"
          }
        }
      ],
      "source": [
        "#Answer\n",
        "plt.imshow(people.images[1412])\n",
        "print(people.target_names[people.target[1412]])"
      ]
    },
    {
      "cell_type": "markdown",
      "metadata": {
        "id": "coax3Eis2Afn"
      },
      "source": [
        "# Problem 2"
      ]
    },
    {
      "cell_type": "markdown",
      "metadata": {
        "id": "d3kZS7lF2Afn"
      },
      "source": [
        "By running the following commands, import a data set of Boston House Price."
      ]
    },
    {
      "cell_type": "code",
      "execution_count": 10,
      "metadata": {
        "colab": {
          "base_uri": "https://localhost:8080/"
        },
        "id": "BBO7FK4M2Afo",
        "outputId": "64cd1699-bdf6-49a4-fe0c-50a7b474be79"
      },
      "outputs": [
        {
          "output_type": "stream",
          "name": "stderr",
          "text": [
            "/usr/local/lib/python3.7/dist-packages/sklearn/utils/deprecation.py:87: FutureWarning: Function load_boston is deprecated; `load_boston` is deprecated in 1.0 and will be removed in 1.2.\n",
            "\n",
            "    The Boston housing prices dataset has an ethical problem. You can refer to\n",
            "    the documentation of this function for further details.\n",
            "\n",
            "    The scikit-learn maintainers therefore strongly discourage the use of this\n",
            "    dataset unless the purpose of the code is to study and educate about\n",
            "    ethical issues in data science and machine learning.\n",
            "\n",
            "    In this special case, you can fetch the dataset from the original\n",
            "    source::\n",
            "\n",
            "        import pandas as pd\n",
            "        import numpy as np\n",
            "\n",
            "\n",
            "        data_url = \"http://lib.stat.cmu.edu/datasets/boston\"\n",
            "        raw_df = pd.read_csv(data_url, sep=\"\\s+\", skiprows=22, header=None)\n",
            "        data = np.hstack([raw_df.values[::2, :], raw_df.values[1::2, :2]])\n",
            "        target = raw_df.values[1::2, 2]\n",
            "\n",
            "    Alternative datasets include the California housing dataset (i.e.\n",
            "    :func:`~sklearn.datasets.fetch_california_housing`) and the Ames housing\n",
            "    dataset. You can load the datasets as follows::\n",
            "\n",
            "        from sklearn.datasets import fetch_california_housing\n",
            "        housing = fetch_california_housing()\n",
            "\n",
            "    for the California housing dataset and::\n",
            "\n",
            "        from sklearn.datasets import fetch_openml\n",
            "        housing = fetch_openml(name=\"house_prices\", as_frame=True)\n",
            "\n",
            "    for the Ames housing dataset.\n",
            "    \n",
            "  warnings.warn(msg, category=FutureWarning)\n"
          ]
        }
      ],
      "source": [
        "from sklearn.datasets import load_boston\n",
        "boston_dataset=load_boston()"
      ]
    },
    {
      "cell_type": "markdown",
      "metadata": {
        "id": "o5IMEh5l2Afo"
      },
      "source": [
        "(a) Read the keys of this data set."
      ]
    },
    {
      "cell_type": "code",
      "execution_count": 11,
      "metadata": {
        "colab": {
          "base_uri": "https://localhost:8080/"
        },
        "id": "xRKkfPqP2Afo",
        "outputId": "0f59aa3b-02a1-44e1-f4ee-054fb1138f02"
      },
      "outputs": [
        {
          "output_type": "execute_result",
          "data": {
            "text/plain": [
              "dict_keys(['data', 'target', 'feature_names', 'DESCR', 'filename', 'data_module'])"
            ]
          },
          "metadata": {},
          "execution_count": 11
        }
      ],
      "source": [
        "# Answer:\n",
        "boston_dataset.keys()"
      ]
    },
    {
      "cell_type": "markdown",
      "metadata": {
        "id": "0n2M6h372Afo"
      },
      "source": [
        "(b) Please give the feature names."
      ]
    },
    {
      "cell_type": "code",
      "execution_count": 12,
      "metadata": {
        "colab": {
          "base_uri": "https://localhost:8080/"
        },
        "id": "A3wt9euy2Afp",
        "outputId": "0488b118-c6a9-4de1-eadd-1fdfe9847dba"
      },
      "outputs": [
        {
          "output_type": "execute_result",
          "data": {
            "text/plain": [
              "array(['CRIM', 'ZN', 'INDUS', 'CHAS', 'NOX', 'RM', 'AGE', 'DIS', 'RAD',\n",
              "       'TAX', 'PTRATIO', 'B', 'LSTAT'], dtype='<U7')"
            ]
          },
          "metadata": {},
          "execution_count": 12
        }
      ],
      "source": [
        "#Answer\n",
        "boston_dataset.feature_names"
      ]
    },
    {
      "cell_type": "markdown",
      "metadata": {
        "id": "rbk2NV9M2Afp"
      },
      "source": [
        "(c) Define a data frame with five columns: CRIM, ZN, INDUS, CHAS, NOX. Start the index from 1."
      ]
    },
    {
      "cell_type": "code",
      "execution_count": 13,
      "metadata": {
        "colab": {
          "base_uri": "https://localhost:8080/",
          "height": 423
        },
        "id": "AMVnnFeV2Afp",
        "outputId": "b0b08ecb-c741-43c7-fbbd-b2f97affb1db"
      },
      "outputs": [
        {
          "output_type": "execute_result",
          "data": {
            "text/html": [
              "\n",
              "  <div id=\"df-0cbc9155-9501-4b61-a1b9-cd691a2cffbd\">\n",
              "    <div class=\"colab-df-container\">\n",
              "      <div>\n",
              "<style scoped>\n",
              "    .dataframe tbody tr th:only-of-type {\n",
              "        vertical-align: middle;\n",
              "    }\n",
              "\n",
              "    .dataframe tbody tr th {\n",
              "        vertical-align: top;\n",
              "    }\n",
              "\n",
              "    .dataframe thead th {\n",
              "        text-align: right;\n",
              "    }\n",
              "</style>\n",
              "<table border=\"1\" class=\"dataframe\">\n",
              "  <thead>\n",
              "    <tr style=\"text-align: right;\">\n",
              "      <th></th>\n",
              "      <th>CRIM</th>\n",
              "      <th>ZN</th>\n",
              "      <th>INDUS</th>\n",
              "      <th>CHAS</th>\n",
              "      <th>NOX</th>\n",
              "    </tr>\n",
              "  </thead>\n",
              "  <tbody>\n",
              "    <tr>\n",
              "      <th>1</th>\n",
              "      <td>0.00632</td>\n",
              "      <td>18.0</td>\n",
              "      <td>2.31</td>\n",
              "      <td>0.0</td>\n",
              "      <td>0.538</td>\n",
              "    </tr>\n",
              "    <tr>\n",
              "      <th>2</th>\n",
              "      <td>0.02731</td>\n",
              "      <td>0.0</td>\n",
              "      <td>7.07</td>\n",
              "      <td>0.0</td>\n",
              "      <td>0.469</td>\n",
              "    </tr>\n",
              "    <tr>\n",
              "      <th>3</th>\n",
              "      <td>0.02729</td>\n",
              "      <td>0.0</td>\n",
              "      <td>7.07</td>\n",
              "      <td>0.0</td>\n",
              "      <td>0.469</td>\n",
              "    </tr>\n",
              "    <tr>\n",
              "      <th>4</th>\n",
              "      <td>0.03237</td>\n",
              "      <td>0.0</td>\n",
              "      <td>2.18</td>\n",
              "      <td>0.0</td>\n",
              "      <td>0.458</td>\n",
              "    </tr>\n",
              "    <tr>\n",
              "      <th>5</th>\n",
              "      <td>0.06905</td>\n",
              "      <td>0.0</td>\n",
              "      <td>2.18</td>\n",
              "      <td>0.0</td>\n",
              "      <td>0.458</td>\n",
              "    </tr>\n",
              "    <tr>\n",
              "      <th>...</th>\n",
              "      <td>...</td>\n",
              "      <td>...</td>\n",
              "      <td>...</td>\n",
              "      <td>...</td>\n",
              "      <td>...</td>\n",
              "    </tr>\n",
              "    <tr>\n",
              "      <th>502</th>\n",
              "      <td>0.06263</td>\n",
              "      <td>0.0</td>\n",
              "      <td>11.93</td>\n",
              "      <td>0.0</td>\n",
              "      <td>0.573</td>\n",
              "    </tr>\n",
              "    <tr>\n",
              "      <th>503</th>\n",
              "      <td>0.04527</td>\n",
              "      <td>0.0</td>\n",
              "      <td>11.93</td>\n",
              "      <td>0.0</td>\n",
              "      <td>0.573</td>\n",
              "    </tr>\n",
              "    <tr>\n",
              "      <th>504</th>\n",
              "      <td>0.06076</td>\n",
              "      <td>0.0</td>\n",
              "      <td>11.93</td>\n",
              "      <td>0.0</td>\n",
              "      <td>0.573</td>\n",
              "    </tr>\n",
              "    <tr>\n",
              "      <th>505</th>\n",
              "      <td>0.10959</td>\n",
              "      <td>0.0</td>\n",
              "      <td>11.93</td>\n",
              "      <td>0.0</td>\n",
              "      <td>0.573</td>\n",
              "    </tr>\n",
              "    <tr>\n",
              "      <th>506</th>\n",
              "      <td>0.04741</td>\n",
              "      <td>0.0</td>\n",
              "      <td>11.93</td>\n",
              "      <td>0.0</td>\n",
              "      <td>0.573</td>\n",
              "    </tr>\n",
              "  </tbody>\n",
              "</table>\n",
              "<p>506 rows × 5 columns</p>\n",
              "</div>\n",
              "      <button class=\"colab-df-convert\" onclick=\"convertToInteractive('df-0cbc9155-9501-4b61-a1b9-cd691a2cffbd')\"\n",
              "              title=\"Convert this dataframe to an interactive table.\"\n",
              "              style=\"display:none;\">\n",
              "        \n",
              "  <svg xmlns=\"http://www.w3.org/2000/svg\" height=\"24px\"viewBox=\"0 0 24 24\"\n",
              "       width=\"24px\">\n",
              "    <path d=\"M0 0h24v24H0V0z\" fill=\"none\"/>\n",
              "    <path d=\"M18.56 5.44l.94 2.06.94-2.06 2.06-.94-2.06-.94-.94-2.06-.94 2.06-2.06.94zm-11 1L8.5 8.5l.94-2.06 2.06-.94-2.06-.94L8.5 2.5l-.94 2.06-2.06.94zm10 10l.94 2.06.94-2.06 2.06-.94-2.06-.94-.94-2.06-.94 2.06-2.06.94z\"/><path d=\"M17.41 7.96l-1.37-1.37c-.4-.4-.92-.59-1.43-.59-.52 0-1.04.2-1.43.59L10.3 9.45l-7.72 7.72c-.78.78-.78 2.05 0 2.83L4 21.41c.39.39.9.59 1.41.59.51 0 1.02-.2 1.41-.59l7.78-7.78 2.81-2.81c.8-.78.8-2.07 0-2.86zM5.41 20L4 18.59l7.72-7.72 1.47 1.35L5.41 20z\"/>\n",
              "  </svg>\n",
              "      </button>\n",
              "      \n",
              "  <style>\n",
              "    .colab-df-container {\n",
              "      display:flex;\n",
              "      flex-wrap:wrap;\n",
              "      gap: 12px;\n",
              "    }\n",
              "\n",
              "    .colab-df-convert {\n",
              "      background-color: #E8F0FE;\n",
              "      border: none;\n",
              "      border-radius: 50%;\n",
              "      cursor: pointer;\n",
              "      display: none;\n",
              "      fill: #1967D2;\n",
              "      height: 32px;\n",
              "      padding: 0 0 0 0;\n",
              "      width: 32px;\n",
              "    }\n",
              "\n",
              "    .colab-df-convert:hover {\n",
              "      background-color: #E2EBFA;\n",
              "      box-shadow: 0px 1px 2px rgba(60, 64, 67, 0.3), 0px 1px 3px 1px rgba(60, 64, 67, 0.15);\n",
              "      fill: #174EA6;\n",
              "    }\n",
              "\n",
              "    [theme=dark] .colab-df-convert {\n",
              "      background-color: #3B4455;\n",
              "      fill: #D2E3FC;\n",
              "    }\n",
              "\n",
              "    [theme=dark] .colab-df-convert:hover {\n",
              "      background-color: #434B5C;\n",
              "      box-shadow: 0px 1px 3px 1px rgba(0, 0, 0, 0.15);\n",
              "      filter: drop-shadow(0px 1px 2px rgba(0, 0, 0, 0.3));\n",
              "      fill: #FFFFFF;\n",
              "    }\n",
              "  </style>\n",
              "\n",
              "      <script>\n",
              "        const buttonEl =\n",
              "          document.querySelector('#df-0cbc9155-9501-4b61-a1b9-cd691a2cffbd button.colab-df-convert');\n",
              "        buttonEl.style.display =\n",
              "          google.colab.kernel.accessAllowed ? 'block' : 'none';\n",
              "\n",
              "        async function convertToInteractive(key) {\n",
              "          const element = document.querySelector('#df-0cbc9155-9501-4b61-a1b9-cd691a2cffbd');\n",
              "          const dataTable =\n",
              "            await google.colab.kernel.invokeFunction('convertToInteractive',\n",
              "                                                     [key], {});\n",
              "          if (!dataTable) return;\n",
              "\n",
              "          const docLinkHtml = 'Like what you see? Visit the ' +\n",
              "            '<a target=\"_blank\" href=https://colab.research.google.com/notebooks/data_table.ipynb>data table notebook</a>'\n",
              "            + ' to learn more about interactive tables.';\n",
              "          element.innerHTML = '';\n",
              "          dataTable['output_type'] = 'display_data';\n",
              "          await google.colab.output.renderOutput(dataTable, element);\n",
              "          const docLink = document.createElement('div');\n",
              "          docLink.innerHTML = docLinkHtml;\n",
              "          element.appendChild(docLink);\n",
              "        }\n",
              "      </script>\n",
              "    </div>\n",
              "  </div>\n",
              "  "
            ],
            "text/plain": [
              "        CRIM    ZN  INDUS  CHAS    NOX\n",
              "1    0.00632  18.0   2.31   0.0  0.538\n",
              "2    0.02731   0.0   7.07   0.0  0.469\n",
              "3    0.02729   0.0   7.07   0.0  0.469\n",
              "4    0.03237   0.0   2.18   0.0  0.458\n",
              "5    0.06905   0.0   2.18   0.0  0.458\n",
              "..       ...   ...    ...   ...    ...\n",
              "502  0.06263   0.0  11.93   0.0  0.573\n",
              "503  0.04527   0.0  11.93   0.0  0.573\n",
              "504  0.06076   0.0  11.93   0.0  0.573\n",
              "505  0.10959   0.0  11.93   0.0  0.573\n",
              "506  0.04741   0.0  11.93   0.0  0.573\n",
              "\n",
              "[506 rows x 5 columns]"
            ]
          },
          "metadata": {},
          "execution_count": 13
        }
      ],
      "source": [
        "#Answer\n",
        "import pandas as pd\n",
        "from pandas import DataFrame\n",
        "\n",
        "boston_df = pd.DataFrame(boston_dataset.data[:,:5], index=list(range(1, len(boston_dataset.data) + 1)), columns=['CRIM', 'ZN', 'INDUS', 'CHAS', 'NOX'])\n",
        "boston_df"
      ]
    },
    {
      "cell_type": "markdown",
      "metadata": {
        "id": "69iFQ8AW2Afp"
      },
      "source": [
        "(d) Find the mean of the features: CRIM, ZN, INDUS, CHAS, NOX."
      ]
    },
    {
      "cell_type": "code",
      "execution_count": 14,
      "metadata": {
        "colab": {
          "base_uri": "https://localhost:8080/"
        },
        "id": "klihuMZ22Afp",
        "outputId": "e9ab113b-9449-49ba-814e-b1b030f60ad1"
      },
      "outputs": [
        {
          "output_type": "execute_result",
          "data": {
            "text/plain": [
              "CRIM      3.613524\n",
              "ZN       11.363636\n",
              "INDUS    11.136779\n",
              "CHAS      0.069170\n",
              "NOX       0.554695\n",
              "Name: mean, dtype: float64"
            ]
          },
          "metadata": {},
          "execution_count": 14
        }
      ],
      "source": [
        "#Answer\n",
        "boston_df.describe().loc['mean']"
      ]
    },
    {
      "cell_type": "markdown",
      "metadata": {
        "id": "lStm8a_k2Afp"
      },
      "source": [
        "(e) Find the maximum of the features: CRIM, ZN, INDUS, CHAS, NOX."
      ]
    },
    {
      "cell_type": "code",
      "execution_count": 15,
      "metadata": {
        "colab": {
          "base_uri": "https://localhost:8080/"
        },
        "id": "9WvfCzta2Afq",
        "outputId": "7aa3cc04-aa65-4bd4-e2c2-f7ff726a7a87"
      },
      "outputs": [
        {
          "output_type": "execute_result",
          "data": {
            "text/plain": [
              "CRIM      88.9762\n",
              "ZN       100.0000\n",
              "INDUS     27.7400\n",
              "CHAS       1.0000\n",
              "NOX        0.8710\n",
              "Name: max, dtype: float64"
            ]
          },
          "metadata": {},
          "execution_count": 15
        }
      ],
      "source": [
        "#Answer\n",
        "boston_df.describe().loc[\"max\"]"
      ]
    },
    {
      "cell_type": "markdown",
      "metadata": {
        "id": "ha_bkDYy2Afq"
      },
      "source": [
        "(f) Print the 400-th data."
      ]
    },
    {
      "cell_type": "code",
      "execution_count": 16,
      "metadata": {
        "colab": {
          "base_uri": "https://localhost:8080/"
        },
        "id": "Z2FIUVVn2Afq",
        "outputId": "6b9f2b2b-f3df-4934-8b73-5c329b2bbc02"
      },
      "outputs": [
        {
          "output_type": "execute_result",
          "data": {
            "text/plain": [
              "CRIM      9.91655\n",
              "ZN        0.00000\n",
              "INDUS    18.10000\n",
              "CHAS      0.00000\n",
              "NOX       0.69300\n",
              "Name: 400, dtype: float64"
            ]
          },
          "metadata": {},
          "execution_count": 16
        }
      ],
      "source": [
        "#Answer\n",
        "boston_df.loc[400]"
      ]
    },
    {
      "cell_type": "markdown",
      "metadata": {
        "id": "nY6X0JTJ2Afq"
      },
      "source": [
        "# Problem 3"
      ]
    },
    {
      "cell_type": "markdown",
      "metadata": {
        "id": "HzTllzJe2Afq"
      },
      "source": [
        "Suppose that we wish to build a linear model that predict the price of a car from the horsepower with the following data:\n",
        "\n",
        "|Horsepower |Price|\n",
        "|---|---|\n",
        "|90     |13800|                \n",
        "|100     |14950|                  \n",
        "|110     |16750|                  \n",
        "|140     |18950|          \n",
        "|175     |21090|                  \n",
        "|195     |21500| \n"
      ]
    },
    {
      "cell_type": "markdown",
      "metadata": {
        "id": "hO_EAhHR2Afr"
      },
      "source": [
        "Let $x$ denote the horsepower. We define the hypothesis function $h_{\\theta}$ by "
      ]
    },
    {
      "cell_type": "markdown",
      "metadata": {
        "id": "FFCxFtnM2Afr"
      },
      "source": [
        "$h_{\\theta}(x) =\\theta_1 x+\\theta_0$"
      ]
    },
    {
      "cell_type": "markdown",
      "metadata": {
        "id": "IDUqzMc-2Afr"
      },
      "source": [
        "where $\\theta_0$ and $\\theta_1$ denote the parameters."
      ]
    },
    {
      "cell_type": "markdown",
      "metadata": {
        "id": "VBwfw0f02Afr"
      },
      "source": [
        "(a)\tDefine the matrix X where each row corresponds to a data point. Also add a column of ones for the bias term."
      ]
    },
    {
      "cell_type": "code",
      "execution_count": 17,
      "metadata": {
        "colab": {
          "base_uri": "https://localhost:8080/"
        },
        "id": "eZ7aqaVt2Afr",
        "outputId": "5a7b4005-5dbc-45ee-a78f-33439dc8d5fc"
      },
      "outputs": [
        {
          "output_type": "execute_result",
          "data": {
            "text/plain": [
              "array([[  1.,  90.],\n",
              "       [  1., 100.],\n",
              "       [  1., 110.],\n",
              "       [  1., 140.],\n",
              "       [  1., 175.],\n",
              "       [  1., 195.]])"
            ]
          },
          "metadata": {},
          "execution_count": 17
        }
      ],
      "source": [
        "# Answer:\n",
        "import numpy as np\n",
        "\n",
        "X = np.array([[90], [100], [110], [140], [175], [195]])\n",
        "ones = np.ones((len(X), 1))\n",
        "X = np.hstack([ones, X])\n",
        "X"
      ]
    },
    {
      "cell_type": "markdown",
      "metadata": {
        "id": "eGhhY-nF2Afs"
      },
      "source": [
        "(b)\tDefine a vector y for the target values.\n"
      ]
    },
    {
      "cell_type": "code",
      "execution_count": 18,
      "metadata": {
        "colab": {
          "base_uri": "https://localhost:8080/"
        },
        "id": "QfX-cBwa2Afs",
        "outputId": "0908cc0d-fd1b-4f25-f249-c6e10e376c71"
      },
      "outputs": [
        {
          "output_type": "execute_result",
          "data": {
            "text/plain": [
              "array([[13800],\n",
              "       [14950],\n",
              "       [16750],\n",
              "       [18950],\n",
              "       [21090],\n",
              "       [21500]])"
            ]
          },
          "metadata": {},
          "execution_count": 18
        }
      ],
      "source": [
        "# Answer:\n",
        "y = np.array([[13800], [14950], [16750], [18950], [21090], [21500]])\n",
        "y"
      ]
    },
    {
      "cell_type": "markdown",
      "metadata": {
        "id": "i7VScwjg2Afs"
      },
      "source": [
        "(c)\tCompute $A=X^{T}X$."
      ]
    },
    {
      "cell_type": "code",
      "execution_count": 19,
      "metadata": {
        "colab": {
          "base_uri": "https://localhost:8080/"
        },
        "id": "NPbDQcow2Afs",
        "outputId": "4e21706d-4fd3-48cf-b814-f2d35fc07c25"
      },
      "outputs": [
        {
          "output_type": "execute_result",
          "data": {
            "text/plain": [
              "array([[6.0000e+00, 8.1000e+02],\n",
              "       [8.1000e+02, 1.1845e+05]])"
            ]
          },
          "metadata": {},
          "execution_count": 19
        }
      ],
      "source": [
        "# Answer:\n",
        "A = np.dot(X.T, X)\n",
        "A"
      ]
    },
    {
      "cell_type": "markdown",
      "metadata": {
        "id": "3zDoyDvW2Afs"
      },
      "source": [
        "(d)\tBy finding the eigenvalues of A, show that A is positive semidefinite.  (Hint: Find the eigenvalues and eigenvectors by numpy.linalg.eig())"
      ]
    },
    {
      "cell_type": "code",
      "execution_count": 20,
      "metadata": {
        "colab": {
          "base_uri": "https://localhost:8080/"
        },
        "id": "ouI7feuM2Aft",
        "outputId": "5d99344a-f773-4881-cf2f-0e10db8a479a"
      },
      "outputs": [
        {
          "output_type": "stream",
          "name": "stdout",
          "text": [
            "The eigenvalues are 0.460932434478309 and 118455.53906756552 and they are greater than 0, so A is positive semidefinite\n"
          ]
        }
      ],
      "source": [
        "# Answer:\n",
        "[values, vectors] = np.linalg.eig(A)\n",
        "print(\"The eigenvalues are\", values[0], \"and\", values[1], \"and they are greater than 0, so A is positive semidefinite\")"
      ]
    }
  ],
  "metadata": {
    "kernelspec": {
      "display_name": "Python 3",
      "language": "python",
      "name": "python3"
    },
    "language_info": {
      "codemirror_mode": {
        "name": "ipython",
        "version": 3
      },
      "file_extension": ".py",
      "mimetype": "text/x-python",
      "name": "python",
      "nbconvert_exporter": "python",
      "pygments_lexer": "ipython3",
      "version": "3.8.8"
    },
    "colab": {
      "name": "MATH3330 Laboratory Assignment 3_2022.ipynb",
      "provenance": [],
      "collapsed_sections": []
    }
  },
  "nbformat": 4,
  "nbformat_minor": 0
}