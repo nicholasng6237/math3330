{
  "nbformat": 4,
  "nbformat_minor": 0,
  "metadata": {
    "colab": {
      "name": "MATH3330 Laboratory Assignment 6.ipynb",
      "provenance": []
    },
    "kernelspec": {
      "name": "python3",
      "display_name": "Python 3"
    },
    "language_info": {
      "name": "python"
    }
  },
  "cells": [
    {
      "cell_type": "markdown",
      "source": [
        "1.\n",
        "\n",
        "Name: Ng Wing Yin\n",
        "\n",
        "SID: 1155127101"
      ],
      "metadata": {
        "id": "yLHYBhPPNX_K"
      }
    },
    {
      "cell_type": "markdown",
      "source": [
        "2."
      ],
      "metadata": {
        "id": "EQbAhcPgNiLT"
      }
    },
    {
      "cell_type": "code",
      "execution_count": 1,
      "metadata": {
        "colab": {
          "base_uri": "https://localhost:8080/"
        },
        "id": "BRUkKKvINVsI",
        "outputId": "96284bda-177a-4322-a233-3281e9fd9911"
      },
      "outputs": [
        {
          "output_type": "stream",
          "name": "stdout",
          "text": [
            "9b868167d063\n"
          ]
        }
      ],
      "source": [
        "!hostname"
      ]
    },
    {
      "cell_type": "markdown",
      "source": [
        "3.\n",
        "\n",
        "sigmoid function, relu function"
      ],
      "metadata": {
        "id": "wCN_SW6INk0t"
      }
    },
    {
      "cell_type": "markdown",
      "source": [
        "4.\n",
        "\n",
        "mean squared error loss, cross entropy loss"
      ],
      "metadata": {
        "id": "DICMLubMN4vE"
      }
    },
    {
      "cell_type": "markdown",
      "source": [
        "5.\n",
        "\n",
        "Assume m=3, then first layer parameters = 3 x 4 + 4 = 16 and second layer parameters = 4 x 2 + 2 = 10. Total trainable parameters = 16 + 10 = 26."
      ],
      "metadata": {
        "id": "USC7G51-OXD8"
      }
    }
  ]
}