{
  "cells": [
    {
      "cell_type": "markdown",
      "id": "12478b01",
      "metadata": {
        "id": "12478b01"
      },
      "source": [
        "Instuctions: Type your code or solution in Google Colab. Upload the '.pdf' file onto Blackboard before Mar. 31 (18:15)."
      ]
    },
    {
      "cell_type": "markdown",
      "id": "9532eb91",
      "metadata": {
        "id": "9532eb91"
      },
      "source": [
        "ID: 1155127101"
      ]
    },
    {
      "cell_type": "markdown",
      "id": "73c00f24",
      "metadata": {
        "id": "73c00f24"
      },
      "source": [
        "Name: Ng Wing Yin"
      ]
    },
    {
      "cell_type": "markdown",
      "id": "e80145f9",
      "metadata": {
        "id": "e80145f9"
      },
      "source": [
        "# Q1 : Principal Component Analysis (PCA)"
      ]
    },
    {
      "cell_type": "markdown",
      "id": "196c7f19",
      "metadata": {
        "id": "196c7f19"
      },
      "source": [
        "(X1, X2) = (4.5, 9.0), (5.0, 11.0), (5.5, 10.0), (9.0, 14.0), (11.0, 15.0), (10.0,16.0)"
      ]
    },
    {
      "cell_type": "markdown",
      "id": "95374d48",
      "metadata": {
        "id": "95374d48"
      },
      "source": [
        "a) Compute the mean of all the given data.\n"
      ]
    },
    {
      "cell_type": "code",
      "execution_count": 6,
      "id": "4be92c06",
      "metadata": {
        "colab": {
          "base_uri": "https://localhost:8080/"
        },
        "id": "4be92c06",
        "outputId": "aa6ee525-e6dc-4bf5-deb5-075d069a10c7"
      },
      "outputs": [
        {
          "name": "stdout",
          "output_type": "stream",
          "text": [
            "[ 7.5 12.5]\n"
          ]
        }
      ],
      "source": [
        "#Answer\n",
        "import numpy as np\n",
        "\n",
        "x = np.array([[4.5, 9.0], [5.0, 11.0], [5.5, 10.0], [9.0, 14.0], [11.0, 15.0], [10.0, 16.0]])\n",
        "mean = np.sum(x, axis=0) / len(x)\n",
        "print(mean)"
      ]
    },
    {
      "cell_type": "markdown",
      "id": "ee196146",
      "metadata": {
        "id": "ee196146"
      },
      "source": [
        "b) Compute the covariance matrix"
      ]
    },
    {
      "cell_type": "code",
      "execution_count": 8,
      "id": "19ce48e5",
      "metadata": {
        "colab": {
          "base_uri": "https://localhost:8080/"
        },
        "id": "19ce48e5",
        "outputId": "f520a9a2-a37a-4d35-d121-f511ad232ee8"
      },
      "outputs": [
        {
          "name": "stdout",
          "output_type": "stream",
          "text": [
            "[[8.  7.8]\n",
            " [7.8 8.3]]\n"
          ]
        }
      ],
      "source": [
        "#Answer\n",
        "d = np.array([v - mean for v in x])\n",
        "print(np.cov(d.T))\n"
      ]
    },
    {
      "cell_type": "markdown",
      "id": "3dbf4eef",
      "metadata": {
        "id": "3dbf4eef"
      },
      "source": [
        "c) Compute the eigenvalues and the corresponding eigenvectors"
      ]
    },
    {
      "cell_type": "code",
      "execution_count": 17,
      "id": "7cf44ff9",
      "metadata": {
        "colab": {
          "base_uri": "https://localhost:8080/"
        },
        "id": "7cf44ff9",
        "outputId": "1edf6530-dbcc-48ee-a218-e0c8e3951115"
      },
      "outputs": [
        {
          "name": "stdout",
          "output_type": "stream",
          "text": [
            "[ 1.74278913 79.75721087]\n",
            "[[-0.71387226 -0.70027594]\n",
            " [ 0.70027594 -0.71387226]]\n"
          ]
        }
      ],
      "source": [
        "#Answer\n",
        "from numpy.linalg import eig\n",
        "\n",
        "lm, v = eig(d.T @ d)\n",
        "print(lm)\n",
        "print(v)"
      ]
    },
    {
      "cell_type": "markdown",
      "id": "2162f729",
      "metadata": {
        "id": "2162f729"
      },
      "source": [
        "# Q2 : Clustering"
      ]
    },
    {
      "cell_type": "markdown",
      "id": "1838c7ae",
      "metadata": {
        "id": "1838c7ae"
      },
      "source": [
        "a) Given the data in Q1, label the 2 clusters using kmean clustering analysis."
      ]
    },
    {
      "cell_type": "code",
      "execution_count": 18,
      "id": "c2486d04",
      "metadata": {
        "colab": {
          "base_uri": "https://localhost:8080/"
        },
        "id": "c2486d04",
        "outputId": "66b7518a-2609-43b2-8a46-6374ca2f3fc6"
      },
      "outputs": [
        {
          "name": "stdout",
          "output_type": "stream",
          "text": [
            "[1 1 1 0 0 0]\n"
          ]
        }
      ],
      "source": [
        "#Answer\n",
        "from sklearn.cluster import KMeans\n",
        "\n",
        "kmeans = KMeans(n_clusters = 2)\n",
        "kmeans.fit(x)\n",
        "print(kmeans.labels_)"
      ]
    },
    {
      "cell_type": "markdown",
      "id": "af0b831c",
      "metadata": {
        "id": "af0b831c"
      },
      "source": [
        "b) Print out the centers of the two clusters."
      ]
    },
    {
      "cell_type": "code",
      "execution_count": 19,
      "id": "fca0d6eb",
      "metadata": {
        "colab": {
          "base_uri": "https://localhost:8080/"
        },
        "id": "fca0d6eb",
        "outputId": "080113ce-3b1b-46ac-99ba-926b541918c4"
      },
      "outputs": [
        {
          "name": "stdout",
          "output_type": "stream",
          "text": [
            "[[10. 15.]\n",
            " [ 5. 10.]]\n"
          ]
        }
      ],
      "source": [
        "#Answer\n",
        "print(kmeans.cluster_centers_)"
      ]
    },
    {
      "cell_type": "markdown",
      "id": "784ee44d",
      "metadata": {
        "id": "784ee44d"
      },
      "source": [
        "c) Plot the data using matplotlib"
      ]
    },
    {
      "cell_type": "code",
      "execution_count": 23,
      "id": "5ce6f5e2",
      "metadata": {
        "colab": {
          "base_uri": "https://localhost:8080/",
          "height": 282
        },
        "id": "5ce6f5e2",
        "outputId": "ae77dc90-2730-404a-fed1-824fca7b807a"
      },
      "outputs": [
        {
          "data": {
            "text/plain": [
              "<matplotlib.collections.PathCollection at 0x7f2c45b1d650>"
            ]
          },
          "execution_count": 23,
          "metadata": {},
          "output_type": "execute_result"
        },
        {
          "data": {
            "image/png": "[encoded data removed]",
            "text/plain": [
              "<Figure size 432x288 with 1 Axes>"
            ]
          },
          "metadata": {
            "needs_background": "light"
          },
          "output_type": "display_data"
        }
      ],
      "source": [
        "#Answer\n",
        "import matplotlib.pyplot as plt\n",
        "\n",
        "plt.scatter(x[:, 0], x[:, 1])"
      ]
    }
  ],
  "metadata": {
    "colab": {
      "name": "Assignment 9.ipynb",
      "provenance": []
    },
    "kernelspec": {
      "display_name": "Python 3",
      "language": "python",
      "name": "python3"
    },
    "language_info": {
      "codemirror_mode": {
        "name": "ipython",
        "version": 3
      },
      "file_extension": ".py",
      "mimetype": "text/x-python",
      "name": "python",
      "nbconvert_exporter": "python",
      "pygments_lexer": "ipython3",
      "version": "3.8.8"
    }
  },
  "nbformat": 4,
  "nbformat_minor": 5
}
