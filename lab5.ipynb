{
  "cells": [
    {
      "cell_type": "markdown",
      "id": "60de440f",
      "metadata": {
        "id": "60de440f"
      },
      "source": [
        "Instuctions: Type your code or solution in Colab. Upload the '.pdf' file onto Blackboard before Feb. 24 (18:15)."
      ]
    },
    {
      "cell_type": "markdown",
      "id": "baf2f8c1",
      "metadata": {
        "id": "baf2f8c1"
      },
      "source": [
        "Name: Ng Wing Yin\n",
        "\n"
      ]
    },
    {
      "cell_type": "markdown",
      "id": "9227ed6e",
      "metadata": {
        "id": "9227ed6e"
      },
      "source": [
        "SID: 1155127101"
      ]
    },
    {
      "cell_type": "markdown",
      "id": "4f0c00dc",
      "metadata": {
        "id": "4f0c00dc"
      },
      "source": [
        "# Problem 1"
      ]
    },
    {
      "cell_type": "markdown",
      "id": "69935861",
      "metadata": {
        "id": "69935861"
      },
      "source": [
        " Implement the conjugate-gradient method on the following problem\n",
        " \n",
        " $$\\min_{x,y,z}   x^2 + y^2 + 2z^2 - xy + yz -5x - 2y + 7z - 3$$"
      ]
    },
    {
      "cell_type": "markdown",
      "id": "9653db29",
      "metadata": {
        "id": "9653db29"
      },
      "source": [
        " (a) Rewrite the function as a quadratic form: \n",
        "$$ f(x,y,z)= \\frac{1}{2}\\left[\\begin{array}{ccc} x &y &z \\end{array}\\right] Q \\left[\\begin{array}{c} x \\\\ y \\\\z  \\end{array}\\right]- {\\bf b}^T \\left[\\begin{array}{c} x \\\\y \\\\z \\end{array}\\right] + c$$\n",
        "Print the matrix $Q$, the vector ${\\bf b}$ and the constant $c$."
      ]
    },
    {
      "cell_type": "code",
      "execution_count": 1,
      "id": "3b5ea458",
      "metadata": {
        "colab": {
          "base_uri": "https://localhost:8080/"
        },
        "id": "3b5ea458",
        "outputId": "7d664192-45d7-499d-b8bc-56fe79690ca4"
      },
      "outputs": [
        {
          "name": "stdout",
          "output_type": "stream",
          "text": [
            "Q: [[ 2 -1  0]\n",
            " [-1  2  1]\n",
            " [ 0  1  4]]\n",
            "b: [ 5  2 -7]\n",
            "c: -3\n"
          ]
        }
      ],
      "source": [
        "# Answer:\n",
        "import numpy as np\n",
        "\n",
        "Q = np.array([[2, -1, 0], [-1, 2, 1], [0, 1, 4]])\n",
        "b = np.array([5, 2, -7])\n",
        "c = -3\n",
        "\n",
        "print(\"Q:\", Q)\n",
        "print(\"b:\", b)\n",
        "print(\"c:\", c)"
      ]
    },
    {
      "cell_type": "markdown",
      "id": "05195d7f",
      "metadata": {
        "id": "05195d7f"
      },
      "source": [
        "(b) Implement the conjugate-gradient method."
      ]
    },
    {
      "cell_type": "code",
      "execution_count": 51,
      "id": "5c54318d",
      "metadata": {
        "id": "5c54318d"
      },
      "outputs": [],
      "source": [
        "#Answer\n",
        "\n",
        "t = np.array([0, 0, 0])\n",
        "d = [b - Q @ t]\n",
        "g = -b\n",
        "\n",
        "for i in range(3):\n",
        "  t = t + -(g.T @ d[i]) / (d[i].T @ Q @ d[i])\n",
        "  g = Q @ t - b\n",
        "  d.append(-g + ((g.T @ Q @ d[i]) / (d[i].T @ Q @ d[i])) * d[i])"
      ]
    },
    {
      "cell_type": "markdown",
      "id": "63a62019",
      "metadata": {
        "id": "63a62019"
      },
      "source": [
        "(c) Print the result obtained in (b)."
      ]
    },
    {
      "cell_type": "code",
      "execution_count": 45,
      "id": "f2150a13",
      "metadata": {
        "colab": {
          "base_uri": "https://localhost:8080/"
        },
        "id": "f2150a13",
        "outputId": "7f22fadc-3134-4257-8834-cab236f69608"
      },
      "outputs": [
        {
          "name": "stdout",
          "output_type": "stream",
          "text": [
            "[0.45300288 0.45300288 0.45300288]\n"
          ]
        }
      ],
      "source": [
        "#Answer\n",
        "\n",
        "print(t)"
      ]
    },
    {
      "cell_type": "markdown",
      "id": "bb40c4f8",
      "metadata": {
        "id": "bb40c4f8"
      },
      "source": [
        "(d) Show that the conjugate directions are $Q$-orthogonal (where $Q$ is the matrix in the quadratic form)."
      ]
    },
    {
      "cell_type": "code",
      "execution_count": 60,
      "id": "eabc69d4",
      "metadata": {
        "colab": {
          "base_uri": "https://localhost:8080/"
        },
        "id": "eabc69d4",
        "outputId": "50ebbc4e-0b51-4a15-cdb0-402718126776"
      },
      "outputs": [
        {
          "name": "stdout",
          "output_type": "stream",
          "text": [
            "-1.7763568394002505e-14\n"
          ]
        }
      ],
      "source": [
        "#Answer\n",
        "print(d[0].T @ Q @ d[1])"
      ]
    },
    {
      "cell_type": "markdown",
      "id": "d68cb7b0",
      "metadata": {
        "id": "d68cb7b0"
      },
      "source": [
        "# Problem 2\n"
      ]
    },
    {
      "cell_type": "markdown",
      "id": "71a8832d",
      "metadata": {
        "id": "71a8832d"
      },
      "source": [
        "(a) Print out the hostname (id) of your virtual desktop"
      ]
    },
    {
      "cell_type": "code",
      "execution_count": 1,
      "id": "d2d6e80b",
      "metadata": {
        "colab": {
          "base_uri": "https://localhost:8080/"
        },
        "id": "d2d6e80b",
        "outputId": "8cf0b08d-8da9-4d10-8ed9-a7f925fc1a37"
      },
      "outputs": [
        {
          "name": "stdout",
          "output_type": "stream",
          "text": [
            "6d15d6201fc1\n"
          ]
        }
      ],
      "source": [
        "# Answer\n",
        "!hostname"
      ]
    },
    {
      "cell_type": "markdown",
      "id": "b0360f54",
      "metadata": {
        "id": "b0360f54"
      },
      "source": [
        "(b) Import the data set 'load_digits' from 'sklearn.datasets'. Check out the 'keys' of the data set."
      ]
    },
    {
      "cell_type": "code",
      "execution_count": 10,
      "id": "4dc84b95",
      "metadata": {
        "colab": {
          "base_uri": "https://localhost:8080/"
        },
        "id": "4dc84b95",
        "outputId": "f7b72e80-3aa2-4a01-c8e5-16d91b45d687"
      },
      "outputs": [
        {
          "name": "stdout",
          "output_type": "stream",
          "text": [
            "dict_keys(['data', 'target', 'frame', 'feature_names', 'target_names', 'images', 'DESCR'])\n"
          ]
        }
      ],
      "source": [
        "# Answer\n",
        "from sklearn.datasets import load_digits\n",
        "\n",
        "dataset = load_digits()\n",
        "print(dataset.keys())"
      ]
    },
    {
      "cell_type": "markdown",
      "id": "ec8ceaec",
      "metadata": {
        "id": "ec8ceaec"
      },
      "source": [
        "(c) Split the data set into training and test data sets. Find the size of the training data set and test data set."
      ]
    },
    {
      "cell_type": "code",
      "execution_count": 12,
      "id": "6b74123d",
      "metadata": {
        "colab": {
          "base_uri": "https://localhost:8080/"
        },
        "id": "6b74123d",
        "outputId": "1854d81d-9954-4645-af7e-0d2f975fb964"
      },
      "outputs": [
        {
          "name": "stdout",
          "output_type": "stream",
          "text": [
            "Size of the training data set: 1347\n",
            "Size of the test data set: 450\n"
          ]
        }
      ],
      "source": [
        "# Answer\n",
        "from sklearn.model_selection import train_test_split\n",
        "\n",
        "X = dataset.data\n",
        "Y = dataset.target\n",
        "X_train, X_test, Y_train, Y_test = train_test_split(X, Y)\n",
        "print(\"Size of the training data set:\", len(X_train))\n",
        "print(\"Size of the test data set:\", len(X_test))"
      ]
    },
    {
      "cell_type": "markdown",
      "id": "9bd0d052",
      "metadata": {
        "id": "9bd0d052"
      },
      "source": [
        "(d) Using the Scikit-learn package, construct a classifier by applying the method of logistic regression."
      ]
    },
    {
      "cell_type": "code",
      "execution_count": 39,
      "id": "e8310d37",
      "metadata": {
        "colab": {
          "base_uri": "https://localhost:8080/"
        },
        "id": "e8310d37",
        "outputId": "6c732fcd-eb9a-443e-edfc-4594c3f2f8b3"
      },
      "outputs": [
        {
          "data": {
            "text/plain": [
              "LogisticRegression(penalty='none')"
            ]
          },
          "execution_count": 39,
          "metadata": {},
          "output_type": "execute_result"
        }
      ],
      "source": [
        "# Answer\n",
        "from sklearn.linear_model import LogisticRegression\n",
        "\n",
        "lr2 = LogisticRegression(penalty='none')\n",
        "lr2.fit(X_train, Y_train)"
      ]
    },
    {
      "cell_type": "markdown",
      "id": "73a2644f",
      "metadata": {
        "id": "73a2644f"
      },
      "source": [
        "(e) Compute the confusion matrices and the accuracy scores for the (i) training and (ii) test data, respectively."
      ]
    },
    {
      "cell_type": "code",
      "execution_count": 76,
      "id": "93285777",
      "metadata": {
        "colab": {
          "base_uri": "https://localhost:8080/"
        },
        "id": "93285777",
        "outputId": "bba9422f-488a-41d2-af22-3b42ecbc3da1"
      },
      "outputs": [
        {
          "name": "stdout",
          "output_type": "stream",
          "text": [
            "[[12 12 17 11 12 13 16 15  8 19]\n",
            " [12 16 11 20 10 11  7 20 15 14]\n",
            " [13 11 15 18 23  9 15  9 11 10]\n",
            " [15 16  7 13 24 11 16 13 10 11]\n",
            " [16  5 18 12 11 16 15 21 11  8]\n",
            " [14 10 10 10 18 13 20 13 12 17]\n",
            " [14 11 18 10 16 17 12 14  8 14]\n",
            " [16  9 11 12 15 13 13 12 17 16]\n",
            " [18 23 11 12  9 11 12 11  8 18]\n",
            " [ 3 15 17 13 11 18 14 11 23 10]]\n",
            "[[ 5  4  4  7  4  4  2  4  6  7]\n",
            " [ 2  6  4  5  3  9  5  5  3  3]\n",
            " [ 4  7  2  5  6  2  3  5 11  1]\n",
            " [ 7  8  3  4  2  4  6  5  3  6]\n",
            " [ 4  5  3  7  4  4  4  4  5  2]\n",
            " [ 5  3  5  4  5  5  5  1  5  8]\n",
            " [ 1  6  7  6  1  5  3  4  5  5]\n",
            " [ 8  2  6  6  0  8  4  2  5  4]\n",
            " [ 3  5  5  4  5  2  4  6  6  4]\n",
            " [ 6  8  3  4  2  7  5  4  2  3]]\n"
          ]
        }
      ],
      "source": [
        "# Answer\n",
        "from sklearn.metrics import confusion_matrix\n",
        "\n",
        "C_train = confusion_matrix(dataset.target[:len(Y_train)], Y_train)\n",
        "C_test = confusion_matrix(dataset.target[:len(Y_test)], Y_test)\n",
        "\n",
        "print(C_train)\n",
        "print(C_test)"
      ]
    }
  ],
  "metadata": {
    "colab": {
      "name": "MATH3330 Laboratory Assignment 5.ipynb",
      "provenance": []
    },
    "kernelspec": {
      "display_name": "Python 3",
      "language": "python",
      "name": "python3"
    },
    "language_info": {
      "codemirror_mode": {
        "name": "ipython",
        "version": 3
      },
      "file_extension": ".py",
      "mimetype": "text/x-python",
      "name": "python",
      "nbconvert_exporter": "python",
      "pygments_lexer": "ipython3",
      "version": "3.9.5"
    }
  },
  "nbformat": 4,
  "nbformat_minor": 5
}
