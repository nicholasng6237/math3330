{
 "cells": [
  {
   "cell_type": "markdown",
   "metadata": {},
   "source": [
    "Instuctions: Type your code or solution in this notebook. Upload the '.ipynb' file onto Blackboard before Jan. 20 (18:15).\n"
   ]
  },
  {
   "cell_type": "markdown",
   "metadata": {},
   "source": [
    "Name: Ng Wing Yin"
   ]
  },
  {
   "cell_type": "markdown",
   "metadata": {},
   "source": [
    "SID: 1155127101"
   ]
  },
  {
   "cell_type": "markdown",
   "metadata": {},
   "source": [
    "# Problem 1"
   ]
  },
  {
   "cell_type": "markdown",
   "metadata": {},
   "source": [
    "(1) A desktop computer named MA3330DC has the following specification: quad-core, 32GB RAM, 2.0\n",
    "GHz, and each core has 8 floating units (perform 8 DP operations in one clock cycle). What is the\n",
    "theoretical double precision peak performance of the desktop in FLOPS?"
   ]
  },
  {
   "cell_type": "markdown",
   "metadata": {},
   "source": [
    "**Answer:**\\\n",
    "FLOPS in one core = (clock rate) x (floating point operation in one clock cycle)\\\n",
    "peak rate = (FLOPS in one core) x (number of cores)\\\n",
    "\\\n",
    "peak FLOPS = 2 GHz * 8 * 4 cores = 64 GFLOPS"
   ]
  },
  {
   "cell_type": "markdown",
   "metadata": {},
   "source": [
    " (2) Given A is a M x K matrix, B is a K x N matrix ,and C is a M x N matrix, what is the number of floating point operation (FLOP) of C=A X B + C?"
   ]
  },
  {
   "cell_type": "markdown",
   "metadata": {},
   "source": [
    "**Answer:**\\\n",
    "Let D = A x B where A(M,K) and B(K,N), which means D(M,N)\\\n",
    "One element of D needs 2K-1 DP, so FLOP in multiplication = (2K-1) x M x N\\\n",
    "Note that C(M,N) and D(M,N), so FLOP in addition = M x N\\\n",
    "total FLOP = (FLOP in multiplication) + (FLOP in addition) = 2K x M x N"
   ]
  },
  {
   "cell_type": "markdown",
   "metadata": {},
   "source": [
    "(3) Given M=K=N for A,, B, and C, what is the maximum dimension of N that MA3330DC can hold?"
   ]
  },
  {
   "cell_type": "markdown",
   "metadata": {},
   "source": [
    "**Answer:**\\\n",
    "For double precision float, we need 8 bytes to store each element\\\n",
    "If M=N=K, in total we need 3N^2 elements\\\n",
    "3N^2 x 8 = 32GB, thus N = floor(sqrt(32e9 / 8 / 3)) = 36514"
   ]
  },
  {
   "cell_type": "markdown",
   "metadata": {},
   "source": [
    "(4) Based on the answer above, what is the time needed to compute C=A x B+C if 90% of the theoretical\n",
    "rate of MA3330DC can be attained for the BLAS3 operation?"
   ]
  },
  {
   "cell_type": "markdown",
   "metadata": {},
   "source": [
    "**Answer:**\\\n",
    "90% x 64 GFLOPS = 57.6 GFLOPS\\\n",
    "The FLOP we need to compute A x B + C is 2N^3\\\n",
    "Time = 2 x 36514 ^ 3 / 57.6 GFLOPS = 1690 seconds"
   ]
  },
  {
   "cell_type": "markdown",
   "metadata": {},
   "source": [
    "# Problem 2"
   ]
  },
  {
   "cell_type": "markdown",
   "metadata": {},
   "source": [
    "Consider the list s."
   ]
  },
  {
   "cell_type": "code",
   "execution_count": 1,
   "metadata": {},
   "outputs": [],
   "source": [
    "s = [4,4,4,0]"
   ]
  },
  {
   "cell_type": "markdown",
   "metadata": {},
   "source": [
    "(a) Define a new list u by adding the 10 digits in your student ID number to the list s."
   ]
  },
  {
   "cell_type": "code",
   "execution_count": 2,
   "metadata": {},
   "outputs": [
    {
     "name": "stdout",
     "output_type": "stream",
     "text": [
      "[4, 4, 4, 0, 1, 1, 5, 5, 1, 2, 7, 1, 0, 1]\n"
     ]
    }
   ],
   "source": [
    "# Answer:\n",
    "sid = [1,1,5,5,1,2,7,1,0,1]\n",
    "for digit in sid:\n",
    "    s.append(digit)\n",
    "print(s)"
   ]
  },
  {
   "cell_type": "markdown",
   "metadata": {},
   "source": [
    "(b) Define a dictionary 'd' with three keys: 'Name', 'Digits', 'Year'.\n",
    "The value under 'Name' is a string consisting of your full name.\n",
    "The value under 'Digits' is the list u.\n",
    "The value under 'Year' is your year of study."
   ]
  },
  {
   "cell_type": "code",
   "execution_count": 3,
   "metadata": {},
   "outputs": [],
   "source": [
    "# Answer:\n",
    "d = { 'Name': 'Ng Wing Yin', 'Digits': sid, 'Year': 4 }"
   ]
  },
  {
   "cell_type": "markdown",
   "metadata": {},
   "source": [
    "(c) Write down the command to read the keys in the dictionary d."
   ]
  },
  {
   "cell_type": "code",
   "execution_count": 4,
   "metadata": {},
   "outputs": [
    {
     "name": "stdout",
     "output_type": "stream",
     "text": [
      "['Name', 'Digits', 'Year']\n"
     ]
    }
   ],
   "source": [
    "# Answer:\n",
    "print(list(d.keys()))"
   ]
  },
  {
   "cell_type": "markdown",
   "metadata": {},
   "source": [
    "(d) Write down the command to read the value under the key 'Digits'."
   ]
  },
  {
   "cell_type": "code",
   "execution_count": 5,
   "metadata": {},
   "outputs": [
    {
     "name": "stdout",
     "output_type": "stream",
     "text": [
      "[1, 1, 5, 5, 1, 2, 7, 1, 0, 1]\n"
     ]
    }
   ],
   "source": [
    "# Answer:\n",
    "print(d['Digits'])"
   ]
  }
 ],
 "metadata": {
  "kernelspec": {
   "display_name": "Python 3",
   "language": "python",
   "name": "python3"
  },
  "language_info": {
   "codemirror_mode": {
    "name": "ipython",
    "version": 3
   },
   "file_extension": ".py",
   "mimetype": "text/x-python",
   "name": "python",
   "nbconvert_exporter": "python",
   "pygments_lexer": "ipython3",
   "version": "3.8.8"
  }
 },
 "nbformat": 4,
 "nbformat_minor": 2
}
